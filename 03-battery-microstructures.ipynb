{
 "cells": [
  {
   "cell_type": "markdown",
   "id": "23f1215b",
   "metadata": {},
   "source": [
    "# Microstructure characterization of battery materials based on voxelated image data: Computation of active surface area and tortuosity\n",
    "\n",
    "## Battery microstructures\n",
    "\n",
    "The study is complemented by three realistic microstructures, namely a\n",
    "representative volume element of nano-porous NVP-C [Neumann et. al. 2024](https://chemistry-europe.onlinelibrary.wiley.com/doi/10.1002/batt.202300409) which is a promising cathode\n",
    "material for sodium ion batteries, a section from a commercial NMC\n",
    "electrode from x-ray tomography [Usseglio-Viretta et. al. 2018](https://iopscience.iop.org/article/10.1149/2.0731814jes/pdf) and a biphasic iron-graphite structure from [microlib](https://microlib.io) to underline the generality of the used methods.\n",
    "<br>\n",
    "\n",
    "\n",
    "<p style=\"display: inline-block; margin-right: 10px;\">\n",
    "  <img src=\"data-paper/battery-structures/nanoporous-NVP.png\" alt=\"Image 1\" width=\"300\" />\n",
    "</p>\n",
    "<p style=\"display: inline-block; margin-right: 10px;\">\n",
    "  <img src=\"data-paper/battery-structures/xray-electrode-CBD.png\" alt=\"Image 1\" width=\"300\" />\n",
    "</p>\n",
    "<p style=\"display: inline-block; margin-right: 10px;\">\n",
    "  <img src=\"data-paper/battery-structures/graphite-ferrite.png\" alt=\"Image 1\" width=\"300\" />\n",
    "</p>\n",
    "\n",
    "\n",
    "**Author**: Simon Daubner<br>\n",
    "**Department**: Department of Mechanical Engineering<br>\n",
    "**Institution**: Karlsruhe Institute of Technology"
   ]
  },
  {
   "cell_type": "code",
   "execution_count": 3,
   "id": "8c4b8ded",
   "metadata": {},
   "outputs": [],
   "source": [
    "import numpy as np\n",
    "import tifffile\n",
    "\n",
    "import metrics\n",
    "import data"
   ]
  },
  {
   "cell_type": "markdown",
   "id": "d3d3753f",
   "metadata": {},
   "source": [
    "### NVP-C: nanoporous cathode material for sodium ion batteries"
   ]
  },
  {
   "cell_type": "code",
   "execution_count": 4,
   "id": "136c4d4f",
   "metadata": {},
   "outputs": [],
   "source": [
    "path_to_images = \"/.../VirtualStructures/Model_NVP_60/Model_NVP_60_VolC_150_N=01\"\n",
    "# path_to_images = \"/.../VirtualStructures/Model_NVP_60/Model_NVP_60_VolC_275_N=01\"\n",
    "# path_to_images = \"/.../VirtualStructures/Model_NVP_60/Model_NVP_60_VolC_300_N=01\"\n",
    "# structure = data.read_image_stack_pgm(path_to_images)\n",
    "# print(\"Stack shape:\", structure.shape)\n",
    "\n",
    "# NVP = 255, carbon = 0, pore = 155\n",
    "# labels = {\"NVP\":255, \"carbon\":0, \"pore\":155}\n",
    "# px = 16.6e-9 # pixel resolution in m"
   ]
  },
  {
   "cell_type": "markdown",
   "id": "5e06d071",
   "metadata": {},
   "source": [
    "### Full electrode example: NMC commercial electrode"
   ]
  },
  {
   "cell_type": "code",
   "execution_count": 5,
   "id": "92f802c5",
   "metadata": {},
   "outputs": [
    {
     "name": "stdout",
     "output_type": "stream",
     "text": [
      "Stack shape: (213, 213, 213)\n"
     ]
    }
   ],
   "source": [
    "path_to_tif = \"data-paper/battery-structures/nmc-1-cal-withcbd-w099-binarized.tif\"\n",
    "tif_file = tifffile.imread(path_to_tif)\n",
    "structure = np.array(tif_file)\n",
    "structure = structure[20:-20,20:-20,20:-20]\n",
    "print(\"Stack shape:\", structure.shape)\n",
    "\n",
    "labels = {\"pore\":0, \"NMC\":1, \"CBD\":2}\n",
    "px = 398e-9 # pixel resolution in m"
   ]
  },
  {
   "cell_type": "markdown",
   "id": "a43d868d",
   "metadata": {},
   "source": [
    "### Biphasic iron-graphite structure from [microlib](https://microlib.io)\n",
    "\n",
    "**Description:** The addition of a substantial amount of silicon to a relatively low carbon cast iron serves to induce the cementite to transform to ferrite and graphite flakes. This results in the properties of the resultant metal being more similar to that of grey cast iron, i.e. making it easier to machine and improving wear resistance.<br>\n",
    "**Contributor:** Dr R F Cochrane<br>\n",
    "**Organisation:** Department of Materials, University of Leeds<br>\n",
    "**Voxel size:** 1.375 µm"
   ]
  },
  {
   "cell_type": "code",
   "execution_count": 4,
   "id": "1e602f40",
   "metadata": {},
   "outputs": [],
   "source": [
    "#path_to_tif = \"/.../microstructure378.tif\"\n",
    "#tif_file = tifffile.imread(path_to_tif)\n",
    "#structure = np.array(tif_file)\n",
    "#print(\"Stack shape:\", structure.shape)\n",
    "\n",
    "#labels = {\"ferrite\":1, \"graphite\":0}\n",
    "#px = 1.375e-6 # pixel resolution in m"
   ]
  },
  {
   "cell_type": "markdown",
   "id": "d95a4121",
   "metadata": {},
   "source": [
    "### Generic script for microstructure metrics\n",
    "\n",
    "Load one of the three samples above or try your own data. The following code snippets will extract the\n",
    "\n",
    "- volume fraction,\n",
    "- surface area,\n",
    "- pairwise-surface area,\n",
    "- through-feature connectivities and\n",
    "- tortuosity factors\n",
    "\n",
    "of all phases defined by the `labels` dictionary."
   ]
  },
  {
   "cell_type": "markdown",
   "id": "c294a4fe",
   "metadata": {},
   "source": [
    "#### Volume fractions"
   ]
  },
  {
   "cell_type": "code",
   "execution_count": 6,
   "id": "baa85dfa",
   "metadata": {},
   "outputs": [
    {
     "name": "stdout",
     "output_type": "stream",
     "text": [
      "Volume fraction of pore: 0.3598\n",
      "Volume fraction of NMC: 0.5062\n",
      "Volume fraction of CBD: 0.1340\n"
     ]
    }
   ],
   "source": [
    "volume_fraction = {}\n",
    "\n",
    "for key, value in labels.items():\n",
    "    # Compute volume fraction of full datset\n",
    "    volume_fraction[key] = metrics.volume_fraction(structure , value)\n",
    "    print(f\"Volume fraction of {key}: {volume_fraction[key]:.4f}\")"
   ]
  },
  {
   "cell_type": "markdown",
   "id": "767dc382",
   "metadata": {},
   "source": [
    "#### Surface areas"
   ]
  },
  {
   "cell_type": "code",
   "execution_count": 6,
   "id": "4aa7042b",
   "metadata": {},
   "outputs": [
    {
     "name": "stdout",
     "output_type": "stream",
     "text": [
      "Specific surface area of pore: 0.43715 [1/µm]\n",
      "Specific surface area of NMC: 0.27315 [1/µm]\n",
      "Specific surface area of CBD: 0.46772 [1/µm]\n",
      "Specific surface area of pore-NMC:  0.12129 [1/µm]\n",
      "Specific surface area of pore-CBD:  0.31586 [1/µm]\n",
      "Specific surface area of NMC-CBD:  0.15186 [1/µm]\n"
     ]
    }
   ],
   "source": [
    "surface = {}\n",
    "for key, value in labels.items():\n",
    "    surface[key] = metrics.specific_surface_area((structure == value).astype(float), dx=px, dy=px, dz=px)\n",
    "    print(f\"Specific surface area of {key}: {surface[key]*1e-6:.5f} [1/µm]\")\n",
    "\n",
    "for key1, value in labels.items():\n",
    "    for key2, value in labels.items():\n",
    "        if key1 != key2:\n",
    "            for key3, value in labels.items():\n",
    "                if key3 != key2 and key3 != key1:\n",
    "                    area12 = 0.5*(surface[key1] + surface[key2] - surface[key3])\n",
    "                    area13 = 0.5*(surface[key1] + surface[key3] - surface[key2])\n",
    "                    area23 = 0.5*(surface[key2] + surface[key3] - surface[key1])\n",
    "                    print(f\"Specific surface area of {key1}-{key2}:  {area12*1e-6:.5f} [1/µm]\")\n",
    "                    print(f\"Specific surface area of {key1}-{key3}:  {area13*1e-6:.5f} [1/µm]\")\n",
    "                    print(f\"Specific surface area of {key2}-{key3}:  {area23*1e-6:.5f} [1/µm]\")\n",
    "            break\n",
    "    break"
   ]
  },
  {
   "cell_type": "markdown",
   "id": "ea9d0975",
   "metadata": {},
   "source": [
    "#### Through feature connectivity"
   ]
  },
  {
   "cell_type": "code",
   "execution_count": 7,
   "id": "392f0173",
   "metadata": {},
   "outputs": [
    {
     "name": "stdout",
     "output_type": "stream",
     "text": [
      "With |  side  |  edge  | corner | connectivity\n",
      " x = | 0.9898 | 0.9978 | 0.9987 | % of pore are connected\n",
      " y = | 0.9898 | 0.9978 | 0.9987 | % of pore are connected\n",
      " z = | 0.9898 | 0.9978 | 0.9987 | % of pore are connected\n",
      " x = | 0.9974 | 0.9985 | 0.9985 | % of NMC are connected\n",
      " y = | 0.9974 | 0.9985 | 0.9985 | % of NMC are connected\n",
      " z = | 0.9974 | 0.9985 | 0.9985 | % of NMC are connected\n",
      " x = | 0.9772 | 0.9940 | 0.9963 | % of CBD are connected\n",
      " y = | 0.9772 | 0.9940 | 0.9963 | % of CBD are connected\n",
      " z = | 0.9772 | 0.9940 | 0.9963 | % of CBD are connected\n"
     ]
    }
   ],
   "source": [
    "through_fraction = {}\n",
    "for key, value in labels.items():\n",
    "    through_fraction[key] = {}\n",
    "    _, through_fraction[key]['x'] = metrics.extract_through_feature(structure, value, 'x')\n",
    "    _, through_fraction[key]['y'] = metrics.extract_through_feature(structure, value, 'y')\n",
    "    _, through_fraction[key]['z'] = metrics.extract_through_feature(structure, value, 'z')\n",
    "\n",
    "print( \"With |  side  |  edge  | corner | connectivity\")\n",
    "for key, value in labels.items():\n",
    "    print(f\" x = | {through_fraction[key]['x'][0]:.4f} | {through_fraction[key]['x'][1]:.4f} | {through_fraction[key]['x'][2]:.4f} | % of {key} are connected\")\n",
    "    print(f\" y = | {through_fraction[key]['y'][0]:.4f} | {through_fraction[key]['y'][1]:.4f} | {through_fraction[key]['y'][2]:.4f} | % of {key} are connected\")\n",
    "    print(f\" z = | {through_fraction[key]['z'][0]:.4f} | {through_fraction[key]['z'][1]:.4f} | {through_fraction[key]['z'][2]:.4f} | % of {key} are connected\")"
   ]
  },
  {
   "cell_type": "markdown",
   "id": "2c409ce7",
   "metadata": {},
   "source": [
    "#### Tortuosity factors"
   ]
  },
  {
   "cell_type": "code",
   "execution_count": 8,
   "id": "7f688930",
   "metadata": {},
   "outputs": [
    {
     "name": "stdout",
     "output_type": "stream",
     "text": [
      "converged to: 2.7050857543945312                   after: 701 iterations in: 36.3643                    seconds at a rate of 0.0519 s/iter\n",
      "converged to: 2.6776435375213623                   after: 701 iterations in: 36.2832                    seconds at a rate of 0.0518 s/iter\n",
      "Tortuosity factor of pore in x: 2.67764 (2.70509).\n",
      "converged to: 2.798722505569458                   after: 801 iterations in: 41.3753                    seconds at a rate of 0.0517 s/iter\n",
      "converged to: 2.770310878753662                   after: 801 iterations in: 41.3653                    seconds at a rate of 0.0516 s/iter\n",
      "Tortuosity factor of pore in y: 2.77031 (2.79872).\n",
      "converged to: 3.294743061065674                   after: 801 iterations in: 41.4986                    seconds at a rate of 0.0518 s/iter\n",
      "converged to: 3.2612972259521484                   after: 801 iterations in: 41.7399                    seconds at a rate of 0.0521 s/iter\n",
      "Tortuosity factor of pore in z: 3.26130 (3.29474).\n",
      "converged to: 2.326349973678589                   after: 601 iterations in: 31.6404                    seconds at a rate of 0.0526 s/iter\n",
      "converged to: 2.3204195499420166                   after: 601 iterations in: 32.352                    seconds at a rate of 0.0538 s/iter\n",
      "Tortuosity factor of NMC in x: 2.32042 (2.32635).\n",
      "converged to: 2.482945680618286                   after: 701 iterations in: 38.1261                    seconds at a rate of 0.0544 s/iter\n",
      "converged to: 2.4766719341278076                   after: 701 iterations in: 38.1763                    seconds at a rate of 0.0545 s/iter\n",
      "Tortuosity factor of NMC in y: 2.47667 (2.48295).\n",
      "converged to: 3.480745792388916                   after: 701 iterations in: 38.2219                    seconds at a rate of 0.0545 s/iter\n",
      "converged to: 3.471858263015747                   after: 701 iterations in: 38.1122                    seconds at a rate of 0.0544 s/iter\n",
      "Tortuosity factor of NMC in z: 3.47186 (3.48075).\n",
      "converged to: 11.598517417907715                   after: 1401 iterations in: 76.456                    seconds at a rate of 0.0546 s/iter\n",
      "converged to: 11.33405876159668                   after: 1401 iterations in: 75.9843                    seconds at a rate of 0.0542 s/iter\n",
      "Tortuosity factor of CBD in x: 11.33406 (11.59852).\n",
      "converged to: 11.99884033203125                   after: 1301 iterations in: 70.7635                    seconds at a rate of 0.0544 s/iter\n",
      "converged to: 11.725293159484863                   after: 1301 iterations in: 70.4687                    seconds at a rate of 0.0542 s/iter\n",
      "Tortuosity factor of CBD in y: 11.72529 (11.99884).\n",
      "converged to: 15.542367935180664                   after: 1101 iterations in: 59.945                    seconds at a rate of 0.0544 s/iter\n",
      "converged to: 15.18826961517334                   after: 1101 iterations in: 61.487                    seconds at a rate of 0.0558 s/iter\n",
      "Tortuosity factor of CBD in z: 15.18827 (15.54237).\n"
     ]
    }
   ],
   "source": [
    "tau = {}\n",
    "for key, value in labels.items():\n",
    "    tau_vgl = metrics.tortuosity(structure == value)\n",
    "    through_feature, _ = metrics.extract_through_feature(structure, value, 'x', connectivity=1)\n",
    "    tau[key] = metrics.tortuosity(through_feature[0])\n",
    "    print(f\"Tortuosity factor of {key} in x: {tau[key]:.5f} ({tau_vgl:.5f}).\")\n",
    "    tau_vgl = metrics.tortuosity(np.transpose(structure == value, (1,0,2)))\n",
    "    through_feature, _ = metrics.extract_through_feature(structure, value, 'y', connectivity=1)\n",
    "    tau[key] = metrics.tortuosity(np.transpose(through_feature[0], (1,0,2)))\n",
    "    print(f\"Tortuosity factor of {key} in y: {tau[key]:.5f} ({tau_vgl:.5f}).\")\n",
    "    tau_vgl = metrics.tortuosity(np.transpose(structure == value, (2,0,1)))\n",
    "    through_feature, _ = metrics.extract_through_feature(structure, value, 'z', connectivity=1)\n",
    "    tau[key] = metrics.tortuosity(np.transpose(through_feature[0], (2,0,1)))\n",
    "    print(f\"Tortuosity factor of {key} in z: {tau[key]:.5f} ({tau_vgl:.5f}).\")"
   ]
  }
 ],
 "metadata": {
  "kernelspec": {
   "display_name": "py311",
   "language": "python",
   "name": "python3"
  },
  "language_info": {
   "codemirror_mode": {
    "name": "ipython",
    "version": 3
   },
   "file_extension": ".py",
   "mimetype": "text/x-python",
   "name": "python",
   "nbconvert_exporter": "python",
   "pygments_lexer": "ipython3",
   "version": "3.11.9"
  }
 },
 "nbformat": 4,
 "nbformat_minor": 5
}
