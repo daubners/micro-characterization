{
 "cells": [
  {
   "cell_type": "markdown",
   "id": "23f1215b",
   "metadata": {},
   "source": [
    "# Microstructure characterization of battery materials based on voxelated image data: Computation of active surface area and tortuosity\n",
    "\n",
    "## Second validation example: FCC structure\n",
    "\n",
    "<div class=\"row\">\n",
    "  <div class=\"col-md-7\" markdown=\"1\">\n",
    "  This validation increases the complexity of the first example by adding contact between spherical bodies while the volume fraction and surface area can still be expressed analytically as a function of the unit cell side length. This validation is well suited as\n",
    "<ul>\n",
    "  <li>the surface is analytically known,</li>\n",
    "  <li>the example is 3D but yet simple,</li>\n",
    "  <li>the surface is curved and, thus, will suffer from pixelation issues</li>\n",
    "  <li>the example can be used to compute tortuosity in the solid and the pore space.</li>\n",
    "</ul>\n",
    "<br>\n",
    "Without a defined overlap, a voxelization issue arises where for all configurations with an even number of voxels per cube length the spheres are touching at voxel edges while for all odd configurations the spheres are fully connected. This can be seen in the front view of the cube:\n",
    "  </div>\n",
    "  <div class=\"col-md-5\" markdown=\"1\">\n",
    "  <img src=\"data-paper/fcc-study/fcc_solid_3D.png\" alt=\"Image 1\" width=\"220\" />\n",
    "  </div>\n",
    "</div>\n",
    "<br>\n",
    "\n",
    "<div class=\"row\">\n",
    "<div class=\"col-md-2\" markdown=\"1\">\n",
    "  <img src=\"data-paper/fcc-study/fcc_10_pure.png\" alt=\"Image 1\" width=\"100\" />\n",
    "</div>\n",
    "<div class=\"col-md-2\" markdown=\"1\">\n",
    "  <img src=\"data-paper/fcc-study/fcc_11_pure.png\" alt=\"Image 1\" width=\"100\" />\n",
    "</div>\n",
    "<div class=\"col-md-2\" markdown=\"1\">\n",
    "  <img src=\"data-paper/fcc-study/fcc_50_pure.png\" alt=\"Image 1\" width=\"100\" />\n",
    "</div>\n",
    "<div class=\"col-md-2\" markdown=\"1\">\n",
    "  <img src=\"data-paper/fcc-study/fcc_51_pure.png\" alt=\"Image 1\" width=\"100\" />\n",
    "</div>\n",
    "<div class=\"col-md-2\" markdown=\"1\">\n",
    "  <img src=\"data-paper/fcc-study/fcc_100_pure.png\" alt=\"Image 1\" width=\"100\" />\n",
    "</div>\n",
    "<div class=\"col-md-2\" markdown=\"1\">\n",
    "  <img src=\"data-paper/fcc-study/fcc_101_pure.png\" alt=\"Image 1\" width=\"100\" />\n",
    "</div>\n",
    "</div>\n",
    "<div class=\"row\">\n",
    "<div class=\"col-md-2\" markdown=\"1\">\n",
    "  $10^3$ voxels \n",
    "</div>\n",
    "<div class=\"col-md-2\" markdown=\"1\">\n",
    "  $11^3$ voxels\n",
    "</div>\n",
    "<div class=\"col-md-2\" markdown=\"1\">\n",
    "  $50^3$ voxels\n",
    "</div>\n",
    "<div class=\"col-md-2\" markdown=\"1\">\n",
    "  $51^3$ voxels\n",
    "</div>\n",
    "<div class=\"col-md-2\" markdown=\"1\">\n",
    "  $100^3$ voxels\n",
    "</div>\n",
    "<div class=\"col-md-2\" markdown=\"1\">\n",
    "  $101^3$ voxels\n",
    "</div>\n",
    "</div>\n",
    "\n",
    "\n",
    "**Author**: Simon Daubner<br>\n",
    "**Department**: Department of Mechanical Engineering<br>\n",
    "**Institution**: Karlsruhe Institute of Technology"
   ]
  },
  {
   "cell_type": "code",
   "execution_count": 1,
   "id": "8c4b8ded",
   "metadata": {},
   "outputs": [],
   "source": [
    "import matplotlib.pyplot as plt\n",
    "import numpy as np\n",
    "import taufactor.metrics as tau\n",
    "\n",
    "import metrics\n",
    "import data\n",
    "import time"
   ]
  },
  {
   "cell_type": "markdown",
   "id": "d3d3753f",
   "metadata": {},
   "source": [
    "We initialize the grid resolution as"
   ]
  },
  {
   "cell_type": "code",
   "execution_count": 2,
   "id": "8fa93aed",
   "metadata": {},
   "outputs": [],
   "source": [
    "dx = 1.0\n",
    "dy = dx"
   ]
  },
  {
   "cell_type": "code",
   "execution_count": 3,
   "id": "136c4d4f",
   "metadata": {},
   "outputs": [
    {
     "data": {
      "application/vnd.jupyter.widget-view+json": {
       "model_id": "",
       "version_major": 2,
       "version_minor": 0
      },
      "text/plain": [
       "Computing region surface area                               :   0%|          | 0/1 [00:00<?, ?it/s]"
      ]
     },
     "metadata": {},
     "output_type": "display_data"
    },
    {
     "name": "stdout",
     "output_type": "stream",
     "text": [
      "Iter: 0, conv error: 1.7881393432617188e-07, tau: 2.3333334922790527\n",
      "converged to: 2.3333334922790527                   after: 1 iterations in: 0.0007                    seconds at a rate of 0.0007 s/iter\n",
      "Finished FCC with 6^3 voxels.\n"
     ]
    },
    {
     "data": {
      "application/vnd.jupyter.widget-view+json": {
       "model_id": "",
       "version_major": 2,
       "version_minor": 0
      },
      "text/plain": [
       "Computing region surface area                               :   0%|          | 0/1 [00:00<?, ?it/s]"
      ]
     },
     "metadata": {},
     "output_type": "display_data"
    },
    {
     "name": "stdout",
     "output_type": "stream",
     "text": [
      "Iter: 0, conv error: 0.4615386426448822, tau: 1.3485714197158813\n",
      "Iter: 100, conv error: 1.2106788460641837e-07, tau: 2.445708751678467\n",
      "converged to: 2.445708751678467                   after: 101 iterations in: 0.0163                    seconds at a rate of 0.0002 s/iter\n",
      "Finished FCC with 7^3 voxels.\n"
     ]
    },
    {
     "data": {
      "application/vnd.jupyter.widget-view+json": {
       "model_id": "",
       "version_major": 2,
       "version_minor": 0
      },
      "text/plain": [
       "Computing region surface area                               :   0%|          | 0/1 [00:00<?, ?it/s]"
      ]
     },
     "metadata": {},
     "output_type": "display_data"
    },
    {
     "name": "stdout",
     "output_type": "stream",
     "text": [
      "Finished FCC with 8^3 voxels.\n"
     ]
    },
    {
     "data": {
      "application/vnd.jupyter.widget-view+json": {
       "model_id": "",
       "version_major": 2,
       "version_minor": 0
      },
      "text/plain": [
       "Computing region surface area                               :   0%|          | 0/1 [00:00<?, ?it/s]"
      ]
     },
     "metadata": {},
     "output_type": "display_data"
    },
    {
     "name": "stdout",
     "output_type": "stream",
     "text": [
      "converged to: inf                   after: 1 iterations in: 0.0003                    seconds at a rate of 0.0004 s/iter\n",
      "converged to: inf                   after: 1 iterations in: 0.0003                    seconds at a rate of 0.0003 s/iter\n",
      "Finished FCC with 9^3 voxels.\n"
     ]
    },
    {
     "data": {
      "application/vnd.jupyter.widget-view+json": {
       "model_id": "",
       "version_major": 2,
       "version_minor": 0
      },
      "text/plain": [
       "Computing region surface area                               :   0%|          | 0/1 [00:00<?, ?it/s]"
      ]
     },
     "metadata": {},
     "output_type": "display_data"
    },
    {
     "name": "stdout",
     "output_type": "stream",
     "text": [
      "Iter: 0, conv error: 2.980231954552437e-07, tau: 2.5999999046325684\n",
      "converged to: 2.5999999046325684                   after: 1 iterations in: 0.0006                    seconds at a rate of 0.0006 s/iter\n",
      "Finished FCC with 10^3 voxels.\n"
     ]
    },
    {
     "data": {
      "application/vnd.jupyter.widget-view+json": {
       "model_id": "",
       "version_major": 2,
       "version_minor": 0
      },
      "text/plain": [
       "Computing region surface area                               :   0%|          | 0/1 [00:00<?, ?it/s]"
      ]
     },
     "metadata": {},
     "output_type": "display_data"
    },
    {
     "name": "stdout",
     "output_type": "stream",
     "text": [
      "converged to: inf                   after: 1 iterations in: 0.0005                    seconds at a rate of 0.0006 s/iter\n",
      "converged to: inf                   after: 1 iterations in: 0.0006                    seconds at a rate of 0.0007 s/iter\n",
      "Finished FCC with 11^3 voxels.\n"
     ]
    },
    {
     "data": {
      "application/vnd.jupyter.widget-view+json": {
       "model_id": "",
       "version_major": 2,
       "version_minor": 0
      },
      "text/plain": [
       "Computing region surface area                               :   0%|          | 0/1 [00:00<?, ?it/s]"
      ]
     },
     "metadata": {},
     "output_type": "display_data"
    },
    {
     "name": "stdout",
     "output_type": "stream",
     "text": [
      "Iter: 0, conv error: 0.6666669845581055, tau: 2.222222089767456\n",
      "Iter: 100, conv error: 1.3194979146646801e-05, tau: 2.555558204650879\n",
      "converged to: 2.555558204650879                   after: 101 iterations in: 0.0162                    seconds at a rate of 0.0002 s/iter\n",
      "Finished FCC with 12^3 voxels.\n"
     ]
    },
    {
     "data": {
      "application/vnd.jupyter.widget-view+json": {
       "model_id": "",
       "version_major": 2,
       "version_minor": 0
      },
      "text/plain": [
       "Computing region surface area                               :   0%|          | 0/1 [00:00<?, ?it/s]"
      ]
     },
     "metadata": {},
     "output_type": "display_data"
    },
    {
     "name": "stdout",
     "output_type": "stream",
     "text": [
      "Iter: 0, conv error: 0.3047619163990021, tau: 1.187660574913025\n",
      "Iter: 100, conv error: 0.00020653908723033965, tau: 2.3880302906036377\n",
      "converged to: 2.3880302906036377                   after: 101 iterations in: 0.016                    seconds at a rate of 0.0002 s/iter\n",
      "Iter: 0, conv error: 1.2000000476837158, tau: 1.9391025304794312\n",
      "Iter: 100, conv error: 0.0004613788041751832, tau: 4.091120719909668\n",
      "converged to: 4.091120719909668                   after: 101 iterations in: 0.0169                    seconds at a rate of 0.0002 s/iter\n",
      "Finished FCC with 13^3 voxels.\n"
     ]
    },
    {
     "data": {
      "application/vnd.jupyter.widget-view+json": {
       "model_id": "",
       "version_major": 2,
       "version_minor": 0
      },
      "text/plain": [
       "Computing region surface area                               :   0%|          | 0/1 [00:00<?, ?it/s]"
      ]
     },
     "metadata": {},
     "output_type": "display_data"
    },
    {
     "name": "stdout",
     "output_type": "stream",
     "text": [
      "Iter: 0, conv error: 0.44444504380226135, tau: 1.634920597076416\n",
      "Iter: 100, conv error: 0.00015978896408341825, tau: 2.7367353439331055\n",
      "converged to: 2.7367353439331055                   after: 101 iterations in: 0.0162                    seconds at a rate of 0.0002 s/iter\n",
      "Finished FCC with 14^3 voxels.\n"
     ]
    },
    {
     "data": {
      "application/vnd.jupyter.widget-view+json": {
       "model_id": "",
       "version_major": 2,
       "version_minor": 0
      },
      "text/plain": [
       "Computing region surface area                               :   0%|          | 0/1 [00:00<?, ?it/s]"
      ]
     },
     "metadata": {},
     "output_type": "display_data"
    },
    {
     "name": "stdout",
     "output_type": "stream",
     "text": [
      "Iter: 0, conv error: 0.3098592758178711, tau: 1.171790599822998\n",
      "Iter: 100, conv error: 0.0007144740084186196, tau: 2.7080395221710205\n",
      "converged to: 2.7080395221710205                   after: 101 iterations in: 0.0199                    seconds at a rate of 0.0002 s/iter\n",
      "Iter: 0, conv error: 1.012345790863037, tau: 1.5232824087142944\n",
      "Iter: 100, conv error: 0.0009298816439695656, tau: 3.461679220199585\n",
      "converged to: 3.461679220199585                   after: 101 iterations in: 0.0185                    seconds at a rate of 0.0002 s/iter\n",
      "Finished FCC with 15^3 voxels.\n"
     ]
    },
    {
     "data": {
      "application/vnd.jupyter.widget-view+json": {
       "model_id": "",
       "version_major": 2,
       "version_minor": 0
      },
      "text/plain": [
       "Computing region surface area                               :   0%|          | 0/1 [00:00<?, ?it/s]"
      ]
     },
     "metadata": {},
     "output_type": "display_data"
    },
    {
     "name": "stdout",
     "output_type": "stream",
     "text": [
      "Iter: 0, conv error: 1.2727272510528564, tau: 1.5113636255264282\n",
      "Iter: 100, conv error: 0.0024491893127560616, tau: 3.6577847003936768\n",
      "Iter: 200, conv error: 2.112238917106879e-06, tau: 3.659306764602661\n",
      "converged to: 3.659306764602661                   after: 201 iterations in: 0.0319                    seconds at a rate of 0.0002 s/iter\n",
      "Finished FCC with 16^3 voxels.\n"
     ]
    },
    {
     "data": {
      "application/vnd.jupyter.widget-view+json": {
       "model_id": "",
       "version_major": 2,
       "version_minor": 0
      },
      "text/plain": [
       "Computing region surface area                               :   0%|          | 0/1 [00:00<?, ?it/s]"
      ]
     },
     "metadata": {},
     "output_type": "display_data"
    },
    {
     "name": "stdout",
     "output_type": "stream",
     "text": [
      "converged to: inf                   after: 1 iterations in: 0.0004                    seconds at a rate of 0.0004 s/iter\n",
      "converged to: inf                   after: 1 iterations in: 0.0004                    seconds at a rate of 0.0004 s/iter\n",
      "Finished FCC with 17^3 voxels.\n"
     ]
    },
    {
     "data": {
      "application/vnd.jupyter.widget-view+json": {
       "model_id": "",
       "version_major": 2,
       "version_minor": 0
      },
      "text/plain": [
       "Computing region surface area                               :   0%|          | 0/1 [00:00<?, ?it/s]"
      ]
     },
     "metadata": {},
     "output_type": "display_data"
    },
    {
     "name": "stdout",
     "output_type": "stream",
     "text": [
      "Iter: 0, conv error: 1.0000004768371582, tau: 1.5095783472061157\n",
      "Iter: 100, conv error: 0.00550785893574357, tau: 3.5371134281158447\n",
      "Iter: 200, conv error: 7.287979769898811e-06, tau: 3.5402097702026367\n",
      "converged to: 3.5402097702026367                   after: 201 iterations in: 0.0321                    seconds at a rate of 0.0002 s/iter\n",
      "Finished FCC with 18^3 voxels.\n"
     ]
    },
    {
     "data": {
      "application/vnd.jupyter.widget-view+json": {
       "model_id": "",
       "version_major": 2,
       "version_minor": 0
      },
      "text/plain": [
       "Computing region surface area                               :   0%|          | 0/1 [00:00<?, ?it/s]"
      ]
     },
     "metadata": {},
     "output_type": "display_data"
    },
    {
     "name": "stdout",
     "output_type": "stream",
     "text": [
      "Iter: 0, conv error: 0.3179919421672821, tau: 1.1326295137405396\n",
      "Iter: 100, conv error: 0.006634412799030542, tau: 2.9671061038970947\n",
      "Iter: 200, conv error: 1.6561836673645303e-05, tau: 2.9760935306549072\n",
      "converged to: 2.9760935306549072                   after: 201 iterations in: 0.0369                    seconds at a rate of 0.0002 s/iter\n",
      "Iter: 0, conv error: 0.6356591582298279, tau: 1.3918979167938232\n",
      "Iter: 100, conv error: 0.00370724662207067, tau: 2.799781084060669\n",
      "Iter: 200, conv error: 6.300478617049521e-06, tau: 2.8001902103424072\n",
      "converged to: 2.8001902103424072                   after: 201 iterations in: 0.0413                    seconds at a rate of 0.0002 s/iter\n",
      "Finished FCC with 19^3 voxels.\n"
     ]
    },
    {
     "data": {
      "application/vnd.jupyter.widget-view+json": {
       "model_id": "",
       "version_major": 2,
       "version_minor": 0
      },
      "text/plain": [
       "Computing region surface area                               :   0%|          | 0/1 [00:00<?, ?it/s]"
      ]
     },
     "metadata": {},
     "output_type": "display_data"
    },
    {
     "name": "stdout",
     "output_type": "stream",
     "text": [
      "Iter: 0, conv error: 0.8888888359069824, tau: 1.4487806558609009\n",
      "Iter: 100, conv error: 0.00495304586365819, tau: 3.1392946243286133\n",
      "Iter: 200, conv error: 3.5539102100301534e-05, tau: 3.1418917179107666\n",
      "converged to: 3.1418917179107666                   after: 201 iterations in: 0.0358                    seconds at a rate of 0.0002 s/iter\n",
      "Finished FCC with 20^3 voxels.\n"
     ]
    },
    {
     "data": {
      "application/vnd.jupyter.widget-view+json": {
       "model_id": "",
       "version_major": 2,
       "version_minor": 0
      },
      "text/plain": [
       "Computing region surface area                               :   0%|          | 0/1 [00:00<?, ?it/s]"
      ]
     },
     "metadata": {},
     "output_type": "display_data"
    },
    {
     "name": "stdout",
     "output_type": "stream",
     "text": [
      "Iter: 0, conv error: 0.2925989031791687, tau: 1.1153968572616577\n",
      "Iter: 100, conv error: 0.009443068876862526, tau: 2.8968725204467773\n",
      "Iter: 200, conv error: 5.119818524690345e-05, tau: 2.8817901611328125\n",
      "Iter: 300, conv error: 2.3191071250039386e-06, tau: 2.8818037509918213\n",
      "converged to: 2.8818037509918213                   after: 301 iterations in: 0.0554                    seconds at a rate of 0.0002 s/iter\n",
      "Iter: 0, conv error: 0.8901736736297607, tau: 1.3270200490951538\n",
      "Iter: 100, conv error: 0.006392448674887419, tau: 2.836069345474243\n",
      "Iter: 200, conv error: 4.450547930900939e-05, tau: 2.837646722793579\n",
      "converged to: 2.837646722793579                   after: 201 iterations in: 0.0306                    seconds at a rate of 0.0002 s/iter\n",
      "Finished FCC with 21^3 voxels.\n"
     ]
    },
    {
     "data": {
      "application/vnd.jupyter.widget-view+json": {
       "model_id": "",
       "version_major": 2,
       "version_minor": 0
      },
      "text/plain": [
       "Computing region surface area                               :   0%|          | 0/1 [00:00<?, ?it/s]"
      ]
     },
     "metadata": {},
     "output_type": "display_data"
    },
    {
     "name": "stdout",
     "output_type": "stream",
     "text": [
      "Iter: 0, conv error: 0.6400001645088196, tau: 1.3354474306106567\n",
      "Iter: 100, conv error: 0.010023124516010284, tau: 2.4629838466644287\n",
      "Iter: 200, conv error: 2.2149526557768695e-05, tau: 2.4660120010375977\n",
      "converged to: 2.4660120010375977                   after: 201 iterations in: 0.0373                    seconds at a rate of 0.0002 s/iter\n",
      "Finished FCC with 22^3 voxels.\n"
     ]
    },
    {
     "data": {
      "application/vnd.jupyter.widget-view+json": {
       "model_id": "",
       "version_major": 2,
       "version_minor": 0
      },
      "text/plain": [
       "Computing region surface area                               :   0%|          | 0/1 [00:00<?, ?it/s]"
      ]
     },
     "metadata": {},
     "output_type": "display_data"
    },
    {
     "name": "stdout",
     "output_type": "stream",
     "text": [
      "Iter: 0, conv error: 0.2719540596008301, tau: 1.1063315868377686\n",
      "Iter: 100, conv error: 0.013947670347988605, tau: 3.170393705368042\n",
      "Iter: 200, conv error: 8.750910637900233e-05, tau: 3.1702024936676025\n",
      "converged to: 3.1702024936676025                   after: 201 iterations in: 0.0414                    seconds at a rate of 0.0002 s/iter\n",
      "Iter: 0, conv error: 0.7692307829856873, tau: 1.311725378036499\n",
      "Iter: 100, conv error: 0.012092030607163906, tau: 2.681035041809082\n",
      "Iter: 200, conv error: 0.0001246118772542104, tau: 2.6811726093292236\n",
      "converged to: 2.6811726093292236                   after: 201 iterations in: 0.0314                    seconds at a rate of 0.0002 s/iter\n",
      "Finished FCC with 23^3 voxels.\n"
     ]
    },
    {
     "data": {
      "application/vnd.jupyter.widget-view+json": {
       "model_id": "",
       "version_major": 2,
       "version_minor": 0
      },
      "text/plain": [
       "Computing region surface area                               :   0%|          | 0/1 [00:00<?, ?it/s]"
      ]
     },
     "metadata": {},
     "output_type": "display_data"
    },
    {
     "name": "stdout",
     "output_type": "stream",
     "text": [
      "Iter: 0, conv error: 0.7586208581924438, tau: 1.3191057443618774\n",
      "Iter: 100, conv error: 0.0130686704069376, tau: 2.596418619155884\n",
      "Iter: 200, conv error: 0.00016761427104938775, tau: 2.6008362770080566\n",
      "converged to: 2.6008362770080566                   after: 201 iterations in: 0.0396                    seconds at a rate of 0.0002 s/iter\n",
      "Finished FCC with 24^3 voxels.\n"
     ]
    },
    {
     "data": {
      "application/vnd.jupyter.widget-view+json": {
       "model_id": "",
       "version_major": 2,
       "version_minor": 0
      },
      "text/plain": [
       "Computing region surface area                               :   0%|          | 0/1 [00:00<?, ?it/s]"
      ]
     },
     "metadata": {},
     "output_type": "display_data"
    },
    {
     "name": "stdout",
     "output_type": "stream",
     "text": [
      "converged to: inf                   after: 1 iterations in: 0.0006                    seconds at a rate of 0.0006 s/iter\n",
      "converged to: inf                   after: 1 iterations in: 0.0005                    seconds at a rate of 0.0005 s/iter\n",
      "Finished FCC with 25^3 voxels.\n"
     ]
    },
    {
     "data": {
      "application/vnd.jupyter.widget-view+json": {
       "model_id": "",
       "version_major": 2,
       "version_minor": 0
      },
      "text/plain": [
       "Computing region surface area                               :   0%|          | 0/1 [00:00<?, ?it/s]"
      ]
     },
     "metadata": {},
     "output_type": "display_data"
    },
    {
     "name": "stdout",
     "output_type": "stream",
     "text": [
      "Iter: 0, conv error: 0.6092721819877625, tau: 1.1285394430160522\n",
      "Iter: 100, conv error: 0.1047578901052475, tau: 1.9721612930297852\n",
      "Iter: 200, conv error: 0.02821732498705387, tau: 1.990267276763916\n",
      "Iter: 300, conv error: 0.0010779370786622167, tau: 1.9894299507141113\n",
      "Iter: 400, conv error: 0.00016844690253492445, tau: 1.9902729988098145\n",
      "converged to: 1.9902729988098145                   after: 401 iterations in: 0.0872                    seconds at a rate of 0.0002 s/iter\n",
      "Finished FCC with 50^3 voxels.\n"
     ]
    },
    {
     "data": {
      "application/vnd.jupyter.widget-view+json": {
       "model_id": "",
       "version_major": 2,
       "version_minor": 0
      },
      "text/plain": [
       "Computing region surface area                               :   0%|          | 0/1 [00:00<?, ?it/s]"
      ]
     },
     "metadata": {},
     "output_type": "display_data"
    },
    {
     "name": "stdout",
     "output_type": "stream",
     "text": [
      "Iter: 0, conv error: 0.23386500775814056, tau: 1.0455803871154785\n",
      "Iter: 100, conv error: 0.07434220612049103, tau: 3.515052080154419\n",
      "Iter: 200, conv error: 0.019070692360401154, tau: 4.289057731628418\n",
      "Iter: 300, conv error: 0.004213749896734953, tau: 4.278545379638672\n",
      "Iter: 400, conv error: 0.001225374755449593, tau: 4.282629489898682\n",
      "Iter: 500, conv error: 0.00034503397182561457, tau: 4.284670352935791\n",
      "converged to: 4.284670352935791                   after: 501 iterations in: 0.1204                    seconds at a rate of 0.0002 s/iter\n",
      "Iter: 0, conv error: 0.5904762148857117, tau: 1.123306393623352\n",
      "Iter: 100, conv error: 0.14032518863677979, tau: 1.981895923614502\n",
      "Iter: 200, conv error: 0.027414577081799507, tau: 1.9982943534851074\n",
      "Iter: 300, conv error: 0.0018062104936689138, tau: 1.9963657855987549\n",
      "Iter: 400, conv error: 0.0004132743924856186, tau: 1.9970026016235352\n",
      "converged to: 1.9970026016235352                   after: 401 iterations in: 0.0746                    seconds at a rate of 0.0002 s/iter\n",
      "Finished FCC with 51^3 voxels.\n"
     ]
    },
    {
     "data": {
      "application/vnd.jupyter.widget-view+json": {
       "model_id": "",
       "version_major": 2,
       "version_minor": 0
      },
      "text/plain": [
       "Computing region surface area                               :   0%|          | 0/1 [00:00<?, ?it/s]"
      ]
     },
     "metadata": {},
     "output_type": "display_data"
    },
    {
     "name": "stdout",
     "output_type": "stream",
     "text": [
      "Iter: 0, conv error: 0.5443234443664551, tau: 1.0616776943206787\n",
      "Iter: 100, conv error: 0.3967971205711365, tau: 1.7994718551635742\n",
      "Iter: 200, conv error: 0.11346997320652008, tau: 1.7953132390975952\n",
      "Iter: 300, conv error: 0.07955275475978851, tau: 1.8333255052566528\n",
      "Iter: 400, conv error: 0.02368094027042389, tau: 1.8121211528778076\n",
      "Iter: 500, conv error: 0.003745060181245208, tau: 1.8163297176361084\n",
      "Iter: 600, conv error: 0.0015564386267215014, tau: 1.813551664352417\n",
      "Iter: 700, conv error: 0.0011176662519574165, tau: 1.814141869544983\n",
      "Iter: 800, conv error: 0.00023904362751636654, tau: 1.8141398429870605\n",
      "converged to: 1.8141398429870605                   after: 801 iterations in: 3.0545                    seconds at a rate of 0.0038 s/iter\n",
      "Finished FCC with 100^3 voxels.\n"
     ]
    },
    {
     "data": {
      "application/vnd.jupyter.widget-view+json": {
       "model_id": "",
       "version_major": 2,
       "version_minor": 0
      },
      "text/plain": [
       "Computing region surface area                               :   0%|          | 0/1 [00:00<?, ?it/s]"
      ]
     },
     "metadata": {},
     "output_type": "display_data"
    },
    {
     "name": "stdout",
     "output_type": "stream",
     "text": [
      "Iter: 0, conv error: 0.20675240457057953, tau: 1.0225775241851807\n",
      "Iter: 100, conv error: 1.94001042842865, tau: -19.907007217407227\n",
      "converged to: -19.907007217407227                   after: 101 iterations in: 0.3934                    seconds at a rate of 0.0039 s/iter\n",
      "Iter: 0, conv error: 0.5382851958274841, tau: 1.0592001676559448\n",
      "Iter: 100, conv error: 0.41622063517570496, tau: 1.8019667863845825\n",
      "Iter: 200, conv error: 0.12733182311058044, tau: 1.7972363233566284\n",
      "Iter: 300, conv error: 0.07612782716751099, tau: 1.831168532371521\n",
      "Iter: 400, conv error: 0.021935466676950455, tau: 1.8121966123580933\n",
      "Iter: 500, conv error: 0.0028850743547081947, tau: 1.813828468322754\n",
      "Iter: 600, conv error: 0.0032262704335153103, tau: 1.8114360570907593\n",
      "Iter: 700, conv error: 0.0011146079050377011, tau: 1.8116437196731567\n",
      "Iter: 800, conv error: 0.00027749373111873865, tau: 1.8117092847824097\n",
      "converged to: 1.8117092847824097                   after: 801 iterations in: 3.312                    seconds at a rate of 0.0041 s/iter\n",
      "Finished FCC with 101^3 voxels.\n"
     ]
    },
    {
     "data": {
      "application/vnd.jupyter.widget-view+json": {
       "model_id": "",
       "version_major": 2,
       "version_minor": 0
      },
      "text/plain": [
       "Computing region surface area                               :   0%|          | 0/1 [00:00<?, ?it/s]"
      ]
     },
     "metadata": {},
     "output_type": "display_data"
    },
    {
     "name": "stdout",
     "output_type": "stream",
     "text": [
      "Iter: 0, conv error: 0.5119104385375977, tau: 1.0296550989151\n",
      "Iter: 100, conv error: 0.8796414136886597, tau: 1.7747912406921387\n",
      "Iter: 200, conv error: 0.38257139921188354, tau: 1.7156271934509277\n",
      "Iter: 300, conv error: 0.144769549369812, tau: 1.6909594535827637\n",
      "Iter: 400, conv error: 0.10633918642997742, tau: 1.6972724199295044\n",
      "Iter: 500, conv error: 0.05515377223491669, tau: 1.7095234394073486\n",
      "Iter: 600, conv error: 0.06603207439184189, tau: 1.7318934202194214\n",
      "Iter: 700, conv error: 0.034544412046670914, tau: 1.706863522529602\n",
      "Iter: 800, conv error: 0.018978046253323555, tau: 1.7170932292938232\n",
      "Iter: 900, conv error: 0.01303932536393404, tau: 1.7160990238189697\n",
      "Iter: 1000, conv error: 0.004179906565696001, tau: 1.7189298868179321\n",
      "Iter: 1100, conv error: 0.003266112180426717, tau: 1.7165708541870117\n",
      "Iter: 1200, conv error: 0.0023503322154283524, tau: 1.7164068222045898\n",
      "Iter: 1300, conv error: 0.0009378608665429056, tau: 1.7170381546020508\n",
      "converged to: 1.7170381546020508                   after: 1301 iterations in: 63.5905                    seconds at a rate of 0.0489 s/iter\n",
      "Finished FCC with 200^3 voxels.\n"
     ]
    },
    {
     "data": {
      "application/vnd.jupyter.widget-view+json": {
       "model_id": "",
       "version_major": 2,
       "version_minor": 0
      },
      "text/plain": [
       "Computing region surface area                               :   0%|          | 0/1 [00:00<?, ?it/s]"
      ]
     },
     "metadata": {},
     "output_type": "display_data"
    },
    {
     "name": "stdout",
     "output_type": "stream",
     "text": [
      "Iter: 0, conv error: 0.2017693966627121, tau: 1.0112593173980713\n",
      "Iter: 100, conv error: 0.503218412399292, tau: 4.870006561279297\n",
      "Iter: 200, conv error: 0.9653324484825134, tau: -7.569298267364502\n",
      "converged to: -7.569298267364502                   after: 201 iterations in: 10.3372                    seconds at a rate of 0.0514 s/iter\n",
      "Iter: 0, conv error: 0.5133678317070007, tau: 1.0290614366531372\n",
      "Iter: 100, conv error: 0.8817248940467834, tau: 1.7758153676986694\n",
      "Iter: 200, conv error: 0.3998286724090576, tau: 1.7139103412628174\n",
      "Iter: 300, conv error: 0.15588073432445526, tau: 1.6831039190292358\n",
      "Iter: 400, conv error: 0.12520180642604828, tau: 1.6963145732879639\n",
      "Iter: 500, conv error: 0.06733214855194092, tau: 1.7091922760009766\n",
      "Iter: 600, conv error: 0.06714469194412231, tau: 1.7293425798416138\n",
      "Iter: 700, conv error: 0.03180662542581558, tau: 1.7034664154052734\n",
      "Iter: 800, conv error: 0.019931664690375328, tau: 1.715141773223877\n",
      "Iter: 900, conv error: 0.013672059401869774, tau: 1.7142550945281982\n",
      "Iter: 1000, conv error: 0.0037816751282662153, tau: 1.716582179069519\n",
      "Iter: 1100, conv error: 0.004362598992884159, tau: 1.7142337560653687\n",
      "Iter: 1200, conv error: 0.002905716421082616, tau: 1.7141997814178467\n",
      "Iter: 1300, conv error: 0.0011755716986954212, tau: 1.714931845664978\n",
      "Iter: 1400, conv error: 0.0010062026558443904, tau: 1.7142994403839111\n",
      "Iter: 1500, conv error: 0.0005736891180276871, tau: 1.7143560647964478\n",
      "converged to: 1.7143560647964478                   after: 1501 iterations in: 83.0404                    seconds at a rate of 0.0553 s/iter\n",
      "Finished FCC with 201^3 voxels.\n"
     ]
    },
    {
     "data": {
      "application/vnd.jupyter.widget-view+json": {
       "model_id": "",
       "version_major": 2,
       "version_minor": 0
      },
      "text/plain": [
       "Computing region surface area                               :   0%|          | 0/1 [00:00<?, ?it/s]"
      ]
     },
     "metadata": {},
     "output_type": "display_data"
    },
    {
     "name": "stdout",
     "output_type": "stream",
     "text": [
      "Iter: 0, conv error: 0.49755793809890747, tau: 1.0195196866989136\n",
      "Iter: 100, conv error: 0.6300912499427795, tau: 1.928469181060791\n",
      "Iter: 200, conv error: 0.5943421721458435, tau: 1.6896097660064697\n",
      "Iter: 300, conv error: 0.3933882713317871, tau: 1.685767650604248\n",
      "Iter: 400, conv error: 0.23897260427474976, tau: 1.6088793277740479\n",
      "Iter: 500, conv error: 0.20249991118907928, tau: 1.7533971071243286\n",
      "Iter: 600, conv error: 0.10376495122909546, tau: 1.6645139455795288\n",
      "Iter: 700, conv error: 0.14526359736919403, tau: 1.6947951316833496\n",
      "Iter: 800, conv error: 0.05079330876469612, tau: 1.6624929904937744\n",
      "Iter: 900, conv error: 0.057645510882139206, tau: 1.697899341583252\n",
      "Iter: 1000, conv error: 0.0456145703792572, tau: 1.6780908107757568\n",
      "Iter: 1100, conv error: 0.01794644258916378, tau: 1.6834146976470947\n",
      "Iter: 1200, conv error: 0.017552915960550308, tau: 1.6847004890441895\n",
      "Iter: 1300, conv error: 0.005104848183691502, tau: 1.6881012916564941\n",
      "Iter: 1400, conv error: 0.008663150481879711, tau: 1.6804869174957275\n",
      "Iter: 1500, conv error: 0.004190400708466768, tau: 1.6864402294158936\n",
      "Iter: 1600, conv error: 0.004207697231322527, tau: 1.6839205026626587\n",
      "Iter: 1700, conv error: 0.0041602966375648975, tau: 1.68373703956604\n",
      "Iter: 1800, conv error: 0.00253077014349401, tau: 1.6838959455490112\n",
      "Iter: 1900, conv error: 0.0019331321818754077, tau: 1.6846048831939697\n",
      "Iter: 2000, conv error: 0.0004985214327462018, tau: 1.683826208114624\n",
      "converged to: 1.683826208114624                   after: 2001 iterations in: 318.5874                    seconds at a rate of 0.1592 s/iter\n",
      "Finished FCC with 300^3 voxels.\n"
     ]
    },
    {
     "data": {
      "application/vnd.jupyter.widget-view+json": {
       "model_id": "",
       "version_major": 2,
       "version_minor": 0
      },
      "text/plain": [
       "Computing region surface area                               :   0%|          | 0/1 [00:00<?, ?it/s]"
      ]
     },
     "metadata": {},
     "output_type": "display_data"
    },
    {
     "name": "stdout",
     "output_type": "stream",
     "text": [
      "Iter: 0, conv error: 0.19669722020626068, tau: 1.0074893236160278\n",
      "Iter: 100, conv error: 1.0284318923950195, tau: 2.2461800575256348\n",
      "Iter: 200, conv error: 4.246833324432373, tau: -204.09620666503906\n",
      "converged to: -204.09620666503906                   after: 201 iterations in: 32.3333                    seconds at a rate of 0.1609 s/iter\n",
      "Iter: 0, conv error: 0.5038198828697205, tau: 1.0192523002624512\n",
      "Iter: 100, conv error: 0.8736239075660706, tau: 1.9353257417678833\n",
      "Iter: 200, conv error: 0.6203562021255493, tau: 1.689356803894043\n",
      "Iter: 300, conv error: 0.4057484567165375, tau: 1.687663197517395\n",
      "Iter: 400, conv error: 0.24366067349910736, tau: 1.6082892417907715\n",
      "Iter: 500, conv error: 0.252986341714859, tau: 1.7591404914855957\n",
      "Iter: 600, conv error: 0.1201200932264328, tau: 1.6668062210083008\n",
      "Iter: 700, conv error: 0.14852117002010345, tau: 1.6959694623947144\n",
      "Iter: 800, conv error: 0.05530649423599243, tau: 1.6636627912521362\n",
      "Iter: 900, conv error: 0.062030114233493805, tau: 1.698711633682251\n",
      "Iter: 1000, conv error: 0.050334252417087555, tau: 1.6797053813934326\n",
      "Iter: 1100, conv error: 0.021026985719799995, tau: 1.6836429834365845\n",
      "Iter: 1200, conv error: 0.01949634775519371, tau: 1.6860215663909912\n",
      "Iter: 1300, conv error: 0.005088027101010084, tau: 1.6893614530563354\n",
      "Iter: 1400, conv error: 0.011951085180044174, tau: 1.6816961765289307\n",
      "Iter: 1500, conv error: 0.004012878518551588, tau: 1.687398910522461\n",
      "Iter: 1600, conv error: 0.0038000093773007393, tau: 1.685129165649414\n",
      "Iter: 1700, conv error: 0.003972497768700123, tau: 1.684688687324524\n",
      "Iter: 1800, conv error: 0.0027504917234182358, tau: 1.6849924325942993\n",
      "Iter: 1900, conv error: 0.0018302432727068663, tau: 1.6855789422988892\n",
      "Iter: 2000, conv error: 0.0006742451805621386, tau: 1.684902548789978\n",
      "converged to: 1.684902548789978                   after: 2001 iterations in: 329.1746                    seconds at a rate of 0.1645 s/iter\n",
      "Finished FCC with 301^3 voxels.\n"
     ]
    },
    {
     "data": {
      "application/vnd.jupyter.widget-view+json": {
       "model_id": "",
       "version_major": 2,
       "version_minor": 0
      },
      "text/plain": [
       "Computing region surface area                               :   0%|          | 0/1 [00:00<?, ?it/s]"
      ]
     },
     "metadata": {},
     "output_type": "display_data"
    },
    {
     "name": "stdout",
     "output_type": "stream",
     "text": [
      "Iter: 0, conv error: 1.7881393432617188e-07, tau: 2.3333334922790527\n",
      "converged to: 2.3333334922790527                   after: 1 iterations in: 0.0005                    seconds at a rate of 0.0006 s/iter\n",
      "Finished FCC with 6^3 voxels.\n"
     ]
    },
    {
     "data": {
      "application/vnd.jupyter.widget-view+json": {
       "model_id": "",
       "version_major": 2,
       "version_minor": 0
      },
      "text/plain": [
       "Computing region surface area                               :   0%|          | 0/1 [00:00<?, ?it/s]"
      ]
     },
     "metadata": {},
     "output_type": "display_data"
    },
    {
     "name": "stdout",
     "output_type": "stream",
     "text": [
      "Iter: 0, conv error: 0.2456141710281372, tau: 1.3052414655685425\n",
      "Iter: 100, conv error: 4.067479153491149e-07, tau: 1.7686947584152222\n",
      "converged to: 1.7686947584152222                   after: 101 iterations in: 0.0114                    seconds at a rate of 0.0001 s/iter\n",
      "Finished FCC with 7^3 voxels.\n"
     ]
    },
    {
     "data": {
      "application/vnd.jupyter.widget-view+json": {
       "model_id": "",
       "version_major": 2,
       "version_minor": 0
      },
      "text/plain": [
       "Computing region surface area                               :   0%|          | 0/1 [00:00<?, ?it/s]"
      ]
     },
     "metadata": {},
     "output_type": "display_data"
    },
    {
     "name": "stdout",
     "output_type": "stream",
     "text": [
      "Finished FCC with 8^3 voxels.\n"
     ]
    },
    {
     "data": {
      "application/vnd.jupyter.widget-view+json": {
       "model_id": "",
       "version_major": 2,
       "version_minor": 0
      },
      "text/plain": [
       "Computing region surface area                               :   0%|          | 0/1 [00:00<?, ?it/s]"
      ]
     },
     "metadata": {},
     "output_type": "display_data"
    },
    {
     "name": "stdout",
     "output_type": "stream",
     "text": [
      "converged to: inf                   after: 1 iterations in: 0.0003                    seconds at a rate of 0.0004 s/iter\n",
      "Finished FCC with 9^3 voxels.\n"
     ]
    },
    {
     "data": {
      "application/vnd.jupyter.widget-view+json": {
       "model_id": "",
       "version_major": 2,
       "version_minor": 0
      },
      "text/plain": [
       "Computing region surface area                               :   0%|          | 0/1 [00:00<?, ?it/s]"
      ]
     },
     "metadata": {},
     "output_type": "display_data"
    },
    {
     "name": "stdout",
     "output_type": "stream",
     "text": [
      "Iter: 0, conv error: 0.4000003933906555, tau: 1.2544000148773193\n",
      "Iter: 100, conv error: 5.033302841184195e-06, tau: 2.0184361934661865\n",
      "converged to: 2.0184361934661865                   after: 101 iterations in: 0.0175                    seconds at a rate of 0.0002 s/iter\n",
      "Finished FCC with 10^3 voxels.\n"
     ]
    },
    {
     "data": {
      "application/vnd.jupyter.widget-view+json": {
       "model_id": "",
       "version_major": 2,
       "version_minor": 0
      },
      "text/plain": [
       "Computing region surface area                               :   0%|          | 0/1 [00:00<?, ?it/s]"
      ]
     },
     "metadata": {},
     "output_type": "display_data"
    },
    {
     "name": "stdout",
     "output_type": "stream",
     "text": [
      "converged to: inf                   after: 1 iterations in: 0.0005                    seconds at a rate of 0.0005 s/iter\n",
      "Finished FCC with 11^3 voxels.\n"
     ]
    },
    {
     "data": {
      "application/vnd.jupyter.widget-view+json": {
       "model_id": "",
       "version_major": 2,
       "version_minor": 0
      },
      "text/plain": [
       "Computing region surface area                               :   0%|          | 0/1 [00:00<?, ?it/s]"
      ]
     },
     "metadata": {},
     "output_type": "display_data"
    },
    {
     "name": "stdout",
     "output_type": "stream",
     "text": [
      "Iter: 0, conv error: 0.24000009894371033, tau: 1.157024621963501\n",
      "Iter: 100, conv error: 4.1534469346515834e-05, tau: 1.5909491777420044\n",
      "converged to: 1.5909491777420044                   after: 101 iterations in: 0.0161                    seconds at a rate of 0.0002 s/iter\n",
      "Finished FCC with 12^3 voxels.\n"
     ]
    },
    {
     "data": {
      "application/vnd.jupyter.widget-view+json": {
       "model_id": "",
       "version_major": 2,
       "version_minor": 0
      },
      "text/plain": [
       "Computing region surface area                               :   0%|          | 0/1 [00:00<?, ?it/s]"
      ]
     },
     "metadata": {},
     "output_type": "display_data"
    },
    {
     "name": "stdout",
     "output_type": "stream",
     "text": [
      "Iter: 0, conv error: 0.24434398114681244, tau: 1.1813690662384033\n",
      "Iter: 100, conv error: 9.679552749730647e-05, tau: 1.9655290842056274\n",
      "converged to: 1.9655290842056274                   after: 101 iterations in: 0.0167                    seconds at a rate of 0.0002 s/iter\n",
      "Iter: 0, conv error: 1.2000000476837158, tau: 1.9682273864746094\n",
      "Iter: 100, conv error: 0.0004516431363299489, tau: 5.432131290435791\n",
      "converged to: 5.432131290435791                   after: 101 iterations in: 0.0164                    seconds at a rate of 0.0002 s/iter\n",
      "Finished FCC with 13^3 voxels.\n"
     ]
    },
    {
     "data": {
      "application/vnd.jupyter.widget-view+json": {
       "model_id": "",
       "version_major": 2,
       "version_minor": 0
      },
      "text/plain": [
       "Computing region surface area                               :   0%|          | 0/1 [00:00<?, ?it/s]"
      ]
     },
     "metadata": {},
     "output_type": "display_data"
    },
    {
     "name": "stdout",
     "output_type": "stream",
     "text": [
      "Iter: 0, conv error: 0.26086995005607605, tau: 1.1777535676956177\n",
      "Iter: 100, conv error: 0.00027073262026533484, tau: 2.715707302093506\n",
      "converged to: 2.715707302093506                   after: 101 iterations in: 0.0172                    seconds at a rate of 0.0002 s/iter\n",
      "Finished FCC with 14^3 voxels.\n"
     ]
    },
    {
     "data": {
      "application/vnd.jupyter.widget-view+json": {
       "model_id": "",
       "version_major": 2,
       "version_minor": 0
      },
      "text/plain": [
       "Computing region surface area                               :   0%|          | 0/1 [00:00<?, ?it/s]"
      ]
     },
     "metadata": {},
     "output_type": "display_data"
    },
    {
     "name": "stdout",
     "output_type": "stream",
     "text": [
      "Iter: 0, conv error: 0.29126206040382385, tau: 1.1260340213775635\n",
      "Iter: 100, conv error: 0.00018945138435810804, tau: 1.516472339630127\n",
      "converged to: 1.516472339630127                   after: 101 iterations in: 0.019                    seconds at a rate of 0.0002 s/iter\n",
      "Iter: 0, conv error: 1.076923131942749, tau: 1.8480390310287476\n",
      "Iter: 100, conv error: 0.002440214855596423, tau: 5.93410587310791\n",
      "Iter: 200, conv error: 4.460991021915106e-06, tau: 5.936267375946045\n",
      "converged to: 5.936267375946045                   after: 201 iterations in: 0.0356                    seconds at a rate of 0.0002 s/iter\n",
      "Finished FCC with 15^3 voxels.\n"
     ]
    },
    {
     "data": {
      "application/vnd.jupyter.widget-view+json": {
       "model_id": "",
       "version_major": 2,
       "version_minor": 0
      },
      "text/plain": [
       "Computing region surface area                               :   0%|          | 0/1 [00:00<?, ?it/s]"
      ]
     },
     "metadata": {},
     "output_type": "display_data"
    },
    {
     "name": "stdout",
     "output_type": "stream",
     "text": [
      "Iter: 0, conv error: 0.2978723347187042, tau: 1.1479099988937378\n",
      "Iter: 100, conv error: 0.0009425338939763606, tau: 2.0886662006378174\n",
      "converged to: 2.0886662006378174                   after: 101 iterations in: 0.0159                    seconds at a rate of 0.0002 s/iter\n",
      "Finished FCC with 16^3 voxels.\n"
     ]
    },
    {
     "data": {
      "application/vnd.jupyter.widget-view+json": {
       "model_id": "",
       "version_major": 2,
       "version_minor": 0
      },
      "text/plain": [
       "Computing region surface area                               :   0%|          | 0/1 [00:00<?, ?it/s]"
      ]
     },
     "metadata": {},
     "output_type": "display_data"
    },
    {
     "name": "stdout",
     "output_type": "stream",
     "text": [
      "converged to: inf                   after: 1 iterations in: 0.0005                    seconds at a rate of 0.0005 s/iter\n",
      "converged to: inf                   after: 1 iterations in: 0.0004                    seconds at a rate of 0.0005 s/iter\n",
      "Finished FCC with 17^3 voxels.\n"
     ]
    },
    {
     "data": {
      "application/vnd.jupyter.widget-view+json": {
       "model_id": "",
       "version_major": 2,
       "version_minor": 0
      },
      "text/plain": [
       "Computing region surface area                               :   0%|          | 0/1 [00:00<?, ?it/s]"
      ]
     },
     "metadata": {},
     "output_type": "display_data"
    },
    {
     "name": "stdout",
     "output_type": "stream",
     "text": [
      "Iter: 0, conv error: 0.32381001114845276, tau: 1.137270450592041\n",
      "Iter: 100, conv error: 0.0041380347684025764, tau: 3.2445716857910156\n",
      "Iter: 200, conv error: 3.020847998413956e-06, tau: 3.2367775440216064\n",
      "Iter: 300, conv error: 1.510424795014842e-06, tau: 3.2367780208587646\n",
      "converged to: 3.2367780208587646                   after: 301 iterations in: 0.05                    seconds at a rate of 0.0002 s/iter\n",
      "Iter: 0, conv error: 1.0000001192092896, tau: 1.4892786741256714\n",
      "Iter: 100, conv error: 0.005173312500119209, tau: 4.023830413818359\n",
      "Iter: 200, conv error: 1.069290010491386e-05, tau: 4.028794765472412\n",
      "converged to: 4.028794765472412                   after: 201 iterations in: 0.0312                    seconds at a rate of 0.0002 s/iter\n",
      "Finished FCC with 18^3 voxels.\n"
     ]
    },
    {
     "data": {
      "application/vnd.jupyter.widget-view+json": {
       "model_id": "",
       "version_major": 2,
       "version_minor": 0
      },
      "text/plain": [
       "Computing region surface area                               :   0%|          | 0/1 [00:00<?, ?it/s]"
      ]
     },
     "metadata": {},
     "output_type": "display_data"
    },
    {
     "name": "stdout",
     "output_type": "stream",
     "text": [
      "Iter: 0, conv error: 0.28015559911727905, tau: 1.095264196395874\n",
      "Iter: 100, conv error: 0.002374564064666629, tau: 1.5620477199554443\n",
      "Iter: 200, conv error: 4.963276751368539e-06, tau: 1.5609462261199951\n",
      "converged to: 1.5609462261199951                   after: 201 iterations in: 0.0321                    seconds at a rate of 0.0002 s/iter\n",
      "Iter: 0, conv error: 1.1011236906051636, tau: 1.5415763854980469\n",
      "Iter: 100, conv error: 0.012521134689450264, tau: 4.737661361694336\n",
      "Iter: 200, conv error: 0.00010129858128493652, tau: 4.73258113861084\n",
      "converged to: 4.73258113861084                   after: 201 iterations in: 0.0267                    seconds at a rate of 0.0001 s/iter\n",
      "Finished FCC with 19^3 voxels.\n"
     ]
    },
    {
     "data": {
      "application/vnd.jupyter.widget-view+json": {
       "model_id": "",
       "version_major": 2,
       "version_minor": 0
      },
      "text/plain": [
       "Computing region surface area                               :   0%|          | 0/1 [00:00<?, ?it/s]"
      ]
     },
     "metadata": {},
     "output_type": "display_data"
    },
    {
     "name": "stdout",
     "output_type": "stream",
     "text": [
      "Iter: 0, conv error: 0.2857138216495514, tau: 1.1188405752182007\n",
      "Iter: 100, conv error: 0.0037180769722908735, tau: 2.4821486473083496\n",
      "Iter: 200, conv error: 9.488354407949373e-06, tau: 2.477686882019043\n",
      "converged to: 2.477686882019043                   after: 201 iterations in: 0.0392                    seconds at a rate of 0.0002 s/iter\n",
      "Iter: 0, conv error: 0.7499999403953552, tau: 1.5088236331939697\n",
      "Iter: 100, conv error: 0.005132570862770081, tau: 4.15861701965332\n",
      "Iter: 200, conv error: 3.1058221793500707e-05, tau: 4.153984069824219\n",
      "converged to: 4.153984069824219                   after: 201 iterations in: 0.0326                    seconds at a rate of 0.0002 s/iter\n",
      "Finished FCC with 20^3 voxels.\n"
     ]
    },
    {
     "data": {
      "application/vnd.jupyter.widget-view+json": {
       "model_id": "",
       "version_major": 2,
       "version_minor": 0
      },
      "text/plain": [
       "Computing region surface area                               :   0%|          | 0/1 [00:00<?, ?it/s]"
      ]
     },
     "metadata": {},
     "output_type": "display_data"
    },
    {
     "name": "stdout",
     "output_type": "stream",
     "text": [
      "Iter: 0, conv error: 0.28200969099998474, tau: 1.0939216613769531\n",
      "Iter: 100, conv error: 0.0033480674028396606, tau: 1.6776565313339233\n",
      "Iter: 200, conv error: 1.566131686558947e-05, tau: 1.6789377927780151\n",
      "converged to: 1.6789377927780151                   after: 201 iterations in: 0.0352                    seconds at a rate of 0.0002 s/iter\n",
      "Iter: 0, conv error: 0.9411764740943909, tau: 1.4371907711029053\n",
      "Iter: 100, conv error: 0.0066228099167346954, tau: 4.009392261505127\n",
      "Iter: 200, conv error: 8.870914462022483e-05, tau: 4.002758026123047\n",
      "converged to: 4.002758026123047                   after: 201 iterations in: 0.0336                    seconds at a rate of 0.0002 s/iter\n",
      "Finished FCC with 21^3 voxels.\n"
     ]
    },
    {
     "data": {
      "application/vnd.jupyter.widget-view+json": {
       "model_id": "",
       "version_major": 2,
       "version_minor": 0
      },
      "text/plain": [
       "Computing region surface area                               :   0%|          | 0/1 [00:00<?, ?it/s]"
      ]
     },
     "metadata": {},
     "output_type": "display_data"
    },
    {
     "name": "stdout",
     "output_type": "stream",
     "text": [
      "Iter: 0, conv error: 0.20765116810798645, tau: 1.0979259014129639\n",
      "Iter: 100, conv error: 0.0012717500794678926, tau: 1.8637688159942627\n",
      "Iter: 200, conv error: 4.110985537408851e-05, tau: 1.862672209739685\n",
      "converged to: 1.862672209739685                   after: 201 iterations in: 0.0363                    seconds at a rate of 0.0002 s/iter\n",
      "Iter: 0, conv error: 1.1515156030654907, tau: 1.4983164072036743\n",
      "Iter: 100, conv error: 0.018436376005411148, tau: 4.926626682281494\n",
      "Iter: 200, conv error: 0.00010610462777549401, tau: 4.944111347198486\n",
      "converged to: 4.944111347198486                   after: 201 iterations in: 0.0294                    seconds at a rate of 0.0001 s/iter\n",
      "Finished FCC with 22^3 voxels.\n"
     ]
    },
    {
     "data": {
      "application/vnd.jupyter.widget-view+json": {
       "model_id": "",
       "version_major": 2,
       "version_minor": 0
      },
      "text/plain": [
       "Computing region surface area                               :   0%|          | 0/1 [00:00<?, ?it/s]"
      ]
     },
     "metadata": {},
     "output_type": "display_data"
    },
    {
     "name": "stdout",
     "output_type": "stream",
     "text": [
      "Iter: 0, conv error: 0.24338610470294952, tau: 1.085121750831604\n",
      "Iter: 100, conv error: 0.006441966164857149, tau: 1.6291087865829468\n",
      "Iter: 200, conv error: 4.7146073484327644e-05, tau: 1.6259441375732422\n",
      "converged to: 1.6259441375732422                   after: 201 iterations in: 0.0458                    seconds at a rate of 0.0002 s/iter\n",
      "Iter: 0, conv error: 0.8639052510261536, tau: 1.3653035163879395\n",
      "Iter: 100, conv error: 0.024286285042762756, tau: 3.5911030769348145\n",
      "Iter: 200, conv error: 0.00017935085634235293, tau: 3.5908303260803223\n",
      "converged to: 3.5908303260803223                   after: 201 iterations in: 0.037                    seconds at a rate of 0.0002 s/iter\n",
      "Finished FCC with 23^3 voxels.\n"
     ]
    },
    {
     "data": {
      "application/vnd.jupyter.widget-view+json": {
       "model_id": "",
       "version_major": 2,
       "version_minor": 0
      },
      "text/plain": [
       "Computing region surface area                               :   0%|          | 0/1 [00:00<?, ?it/s]"
      ]
     },
     "metadata": {},
     "output_type": "display_data"
    },
    {
     "name": "stdout",
     "output_type": "stream",
     "text": [
      "Iter: 0, conv error: 0.24761982262134552, tau: 1.0892342329025269\n",
      "Iter: 100, conv error: 0.012892882339656353, tau: 2.0064682960510254\n",
      "Iter: 200, conv error: 6.963234773138538e-05, tau: 2.0164670944213867\n",
      "converged to: 2.0164670944213867                   after: 201 iterations in: 0.0414                    seconds at a rate of 0.0002 s/iter\n",
      "Iter: 0, conv error: 1.0000004768371582, tau: 1.4404759407043457\n",
      "Iter: 100, conv error: 0.03804568201303482, tau: 4.734602451324463\n",
      "Iter: 200, conv error: 0.0003259681398048997, tau: 4.720399856567383\n",
      "Iter: 300, conv error: 6.330225460260408e-06, tau: 4.720160007476807\n",
      "converged to: 4.720160007476807                   after: 301 iterations in: 0.0566                    seconds at a rate of 0.0002 s/iter\n",
      "Finished FCC with 24^3 voxels.\n"
     ]
    },
    {
     "data": {
      "application/vnd.jupyter.widget-view+json": {
       "model_id": "",
       "version_major": 2,
       "version_minor": 0
      },
      "text/plain": [
       "Computing region surface area                               :   0%|          | 0/1 [00:00<?, ?it/s]"
      ]
     },
     "metadata": {},
     "output_type": "display_data"
    },
    {
     "name": "stdout",
     "output_type": "stream",
     "text": [
      "converged to: inf                   after: 1 iterations in: 0.0006                    seconds at a rate of 0.0006 s/iter\n",
      "converged to: inf                   after: 1 iterations in: 0.0007                    seconds at a rate of 0.0007 s/iter\n",
      "Finished FCC with 25^3 voxels.\n"
     ]
    },
    {
     "data": {
      "application/vnd.jupyter.widget-view+json": {
       "model_id": "",
       "version_major": 2,
       "version_minor": 0
      },
      "text/plain": [
       "Computing region surface area                               :   0%|          | 0/1 [00:00<?, ?it/s]"
      ]
     },
     "metadata": {},
     "output_type": "display_data"
    },
    {
     "name": "stdout",
     "output_type": "stream",
     "text": [
      "Iter: 0, conv error: 0.18221095204353333, tau: 1.039439082145691\n",
      "Iter: 100, conv error: 0.11179731041193008, tau: 1.8789117336273193\n",
      "Iter: 200, conv error: 0.006892021279782057, tau: 1.7962607145309448\n",
      "Iter: 300, conv error: 0.0006390875787474215, tau: 1.8020899295806885\n",
      "converged to: 1.8020899295806885                   after: 301 iterations in: 0.087                    seconds at a rate of 0.0003 s/iter\n",
      "Iter: 0, conv error: 0.6610183119773865, tau: 1.1551765203475952\n",
      "Iter: 100, conv error: 0.11289992183446884, tau: 2.4194509983062744\n",
      "Iter: 200, conv error: 0.034178655594587326, tau: 2.4839532375335693\n",
      "Iter: 300, conv error: 0.0023000931832939386, tau: 2.4780514240264893\n",
      "Iter: 400, conv error: 0.0003759863320738077, tau: 2.47784161567688\n",
      "converged to: 2.47784161567688                   after: 401 iterations in: 0.0681                    seconds at a rate of 0.0002 s/iter\n",
      "Finished FCC with 50^3 voxels.\n"
     ]
    },
    {
     "data": {
      "application/vnd.jupyter.widget-view+json": {
       "model_id": "",
       "version_major": 2,
       "version_minor": 0
      },
      "text/plain": [
       "Computing region surface area                               :   0%|          | 0/1 [00:00<?, ?it/s]"
      ]
     },
     "metadata": {},
     "output_type": "display_data"
    },
    {
     "name": "stdout",
     "output_type": "stream",
     "text": [
      "Iter: 0, conv error: 0.1864187866449356, tau: 1.0367443561553955\n",
      "Iter: 100, conv error: 0.14938929677009583, tau: 1.700454831123352\n",
      "Iter: 200, conv error: 0.009961760602891445, tau: 1.632130742073059\n",
      "Iter: 300, conv error: 0.0016430328832939267, tau: 1.641403079032898\n",
      "Iter: 400, conv error: 0.00018388289026916027, tau: 1.6404451131820679\n",
      "converged to: 1.6404451131820679                   after: 401 iterations in: 0.081                    seconds at a rate of 0.0002 s/iter\n",
      "Iter: 0, conv error: 0.7482451796531677, tau: 1.1455762386322021\n",
      "Iter: 100, conv error: 0.15203750133514404, tau: 2.393134593963623\n",
      "Iter: 200, conv error: 0.03520726412534714, tau: 2.4770312309265137\n",
      "Iter: 300, conv error: 0.0022757272236049175, tau: 2.4670016765594482\n",
      "Iter: 400, conv error: 0.000542929396033287, tau: 2.4666998386383057\n",
      "converged to: 2.4666998386383057                   after: 401 iterations in: 0.0734                    seconds at a rate of 0.0002 s/iter\n",
      "Finished FCC with 51^3 voxels.\n"
     ]
    },
    {
     "data": {
      "application/vnd.jupyter.widget-view+json": {
       "model_id": "",
       "version_major": 2,
       "version_minor": 0
      },
      "text/plain": [
       "Computing region surface area                               :   0%|          | 0/1 [00:00<?, ?it/s]"
      ]
     },
     "metadata": {},
     "output_type": "display_data"
    },
    {
     "name": "stdout",
     "output_type": "stream",
     "text": [
      "Iter: 0, conv error: 0.17875923216342926, tau: 1.0189423561096191\n",
      "Iter: 100, conv error: 0.10416574031114578, tau: 1.9124603271484375\n",
      "Iter: 200, conv error: 0.11331729590892792, tau: 1.7887935638427734\n",
      "Iter: 300, conv error: 0.03263930603861809, tau: 1.6947358846664429\n",
      "Iter: 400, conv error: 0.0037984661757946014, tau: 1.7095389366149902\n",
      "Iter: 500, conv error: 0.00333257089368999, tau: 1.721045970916748\n",
      "Iter: 600, conv error: 0.0005492075579240918, tau: 1.7174639701843262\n",
      "Iter: 700, conv error: 0.00043433959945105016, tau: 1.716663122177124\n",
      "converged to: 1.716663122177124                   after: 701 iterations in: 2.6837                    seconds at a rate of 0.0038 s/iter\n",
      "Iter: 0, conv error: 0.682541012763977, tau: 1.0723867416381836\n",
      "Iter: 100, conv error: 0.3847653567790985, tau: 2.290581226348877\n",
      "Iter: 200, conv error: 0.11186050623655319, tau: 2.133728265762329\n",
      "Iter: 300, conv error: 0.08470388501882553, tau: 2.219320774078369\n",
      "Iter: 400, conv error: 0.03447023779153824, tau: 2.191498041152954\n",
      "Iter: 500, conv error: 0.008944937027990818, tau: 2.1870861053466797\n",
      "Iter: 600, conv error: 0.004723690450191498, tau: 2.184521436691284\n",
      "Iter: 700, conv error: 0.001459623803384602, tau: 2.184220314025879\n",
      "Iter: 800, conv error: 0.0005387794226408005, tau: 2.1843230724334717\n",
      "converged to: 2.1843230724334717                   after: 801 iterations in: 3.0759                    seconds at a rate of 0.0038 s/iter\n",
      "Finished FCC with 100^3 voxels.\n"
     ]
    },
    {
     "data": {
      "application/vnd.jupyter.widget-view+json": {
       "model_id": "",
       "version_major": 2,
       "version_minor": 0
      },
      "text/plain": [
       "Computing region surface area                               :   0%|          | 0/1 [00:00<?, ?it/s]"
      ]
     },
     "metadata": {},
     "output_type": "display_data"
    },
    {
     "name": "stdout",
     "output_type": "stream",
     "text": [
      "Iter: 0, conv error: 0.17747963964939117, tau: 1.0183558464050293\n",
      "Iter: 100, conv error: 0.09955780953168869, tau: 1.7747652530670166\n",
      "Iter: 200, conv error: 0.13621053099632263, tau: 1.6957966089248657\n",
      "Iter: 300, conv error: 0.029795484617352486, tau: 1.6190972328186035\n",
      "Iter: 400, conv error: 0.006761533208191395, tau: 1.6228621006011963\n",
      "Iter: 500, conv error: 0.0021489528007805347, tau: 1.6347403526306152\n",
      "Iter: 600, conv error: 0.0013163432013243437, tau: 1.632590889930725\n",
      "Iter: 700, conv error: 0.00047792913392186165, tau: 1.6315674781799316\n",
      "converged to: 1.6315674781799316                   after: 701 iterations in: 2.7737                    seconds at a rate of 0.004 s/iter\n",
      "Iter: 0, conv error: 0.6653867959976196, tau: 1.069422960281372\n",
      "Iter: 100, conv error: 0.4036966562271118, tau: 2.265287399291992\n",
      "Iter: 200, conv error: 0.16265937685966492, tau: 2.1231818199157715\n",
      "Iter: 300, conv error: 0.11615711450576782, tau: 2.1949126720428467\n",
      "Iter: 400, conv error: 0.03927615284919739, tau: 2.1717662811279297\n",
      "Iter: 500, conv error: 0.00990541186183691, tau: 2.1664445400238037\n",
      "Iter: 600, conv error: 0.004714631009846926, tau: 2.1638917922973633\n",
      "Iter: 700, conv error: 0.001430119969882071, tau: 2.1641364097595215\n",
      "Iter: 800, conv error: 0.000392319867387414, tau: 2.1640801429748535\n",
      "converged to: 2.1640801429748535                   after: 801 iterations in: 3.3393                    seconds at a rate of 0.0042 s/iter\n",
      "Finished FCC with 101^3 voxels.\n"
     ]
    },
    {
     "data": {
      "application/vnd.jupyter.widget-view+json": {
       "model_id": "",
       "version_major": 2,
       "version_minor": 0
      },
      "text/plain": [
       "Computing region surface area                               :   0%|          | 0/1 [00:00<?, ?it/s]"
      ]
     },
     "metadata": {},
     "output_type": "display_data"
    },
    {
     "name": "stdout",
     "output_type": "stream",
     "text": [
      "Iter: 0, conv error: 0.1764688789844513, tau: 1.0093369483947754\n",
      "Iter: 100, conv error: 0.3220241665840149, tau: 1.9113013744354248\n",
      "Iter: 200, conv error: 0.10275871306657791, tau: 1.864397644996643\n",
      "Iter: 300, conv error: 0.1832609921693802, tau: 1.5512897968292236\n",
      "Iter: 400, conv error: 0.11361899971961975, tau: 1.752508521080017\n",
      "Iter: 500, conv error: 0.028788987547159195, tau: 1.6662495136260986\n",
      "Iter: 600, conv error: 0.032783761620521545, tau: 1.6622523069381714\n",
      "Iter: 700, conv error: 0.012890881858766079, tau: 1.7048240900039673\n",
      "Iter: 800, conv error: 0.0024376476649194956, tau: 1.6744633913040161\n",
      "Iter: 900, conv error: 0.001320919138379395, tau: 1.68058180809021\n",
      "Iter: 1000, conv error: 0.0026707113720476627, tau: 1.6868091821670532\n",
      "Iter: 1100, conv error: 0.002988246502354741, tau: 1.6809461116790771\n",
      "Iter: 1200, conv error: 0.001049694954417646, tau: 1.6830416917800903\n",
      "Iter: 1300, conv error: 0.0009843989973887801, tau: 1.6831090450286865\n",
      "converged to: 1.6831090450286865                   after: 1301 iterations in: 71.889                    seconds at a rate of 0.0553 s/iter\n",
      "Iter: 0, conv error: 0.6473906636238098, tau: 1.03452467918396\n",
      "Iter: 100, conv error: 1.137500524520874, tau: 2.1829171180725098\n",
      "Iter: 200, conv error: 0.3318226933479309, tau: 2.1015305519104004\n",
      "Iter: 300, conv error: 0.24242368340492249, tau: 2.0786619186401367\n",
      "Iter: 400, conv error: 0.1763971447944641, tau: 1.9979281425476074\n",
      "Iter: 500, conv error: 0.11828870326280594, tau: 1.9876354932785034\n",
      "Iter: 600, conv error: 0.10988380759954453, tau: 2.0541789531707764\n",
      "Iter: 700, conv error: 0.05837592855095863, tau: 2.0183827877044678\n",
      "Iter: 800, conv error: 0.03595511242747307, tau: 2.0356667041778564\n",
      "Iter: 900, conv error: 0.01230672188103199, tau: 2.029350996017456\n",
      "Iter: 1000, conv error: 0.006719236262142658, tau: 2.032750129699707\n",
      "Iter: 1100, conv error: 0.003133222693577409, tau: 2.028634786605835\n",
      "Iter: 1200, conv error: 0.002461591036990285, tau: 2.0288543701171875\n",
      "Iter: 1300, conv error: 0.001644536154344678, tau: 2.030562162399292\n",
      "Iter: 1400, conv error: 0.0012687592534348369, tau: 2.0297372341156006\n",
      "Iter: 1500, conv error: 0.0006469243671745062, tau: 2.0297439098358154\n",
      "converged to: 2.0297439098358154                   after: 1501 iterations in: 83.4664                    seconds at a rate of 0.0556 s/iter\n",
      "Finished FCC with 200^3 voxels.\n"
     ]
    },
    {
     "data": {
      "application/vnd.jupyter.widget-view+json": {
       "model_id": "",
       "version_major": 2,
       "version_minor": 0
      },
      "text/plain": [
       "Computing region surface area                               :   0%|          | 0/1 [00:00<?, ?it/s]"
      ]
     },
     "metadata": {},
     "output_type": "display_data"
    },
    {
     "name": "stdout",
     "output_type": "stream",
     "text": [
      "Iter: 0, conv error: 0.17778347432613373, tau: 1.0091387033462524\n",
      "Iter: 100, conv error: 0.31876131892204285, tau: 1.8478597402572632\n",
      "Iter: 200, conv error: 0.10150968283414841, tau: 1.7855137586593628\n",
      "Iter: 300, conv error: 0.190158873796463, tau: 1.5183966159820557\n",
      "Iter: 400, conv error: 0.1371980756521225, tau: 1.700821876525879\n",
      "Iter: 500, conv error: 0.02667987160384655, tau: 1.6164708137512207\n",
      "Iter: 600, conv error: 0.03304755687713623, tau: 1.6194888353347778\n",
      "Iter: 700, conv error: 0.015062053687870502, tau: 1.6540604829788208\n",
      "Iter: 800, conv error: 0.005629620049148798, tau: 1.6253961324691772\n",
      "Iter: 900, conv error: 0.0019523162627592683, tau: 1.6338900327682495\n",
      "Iter: 1000, conv error: 0.002519969129934907, tau: 1.6381545066833496\n",
      "Iter: 1100, conv error: 0.0039373598992824554, tau: 1.6328271627426147\n",
      "Iter: 1200, conv error: 0.001365991891361773, tau: 1.635130524635315\n",
      "Iter: 1300, conv error: 0.0008561226422898471, tau: 1.634737491607666\n",
      "converged to: 1.634737491607666                   after: 1301 iterations in: 72.7006                    seconds at a rate of 0.0559 s/iter\n",
      "Iter: 0, conv error: 0.6435853242874146, tau: 1.0338214635849\n",
      "Iter: 100, conv error: 1.4157291650772095, tau: 2.1835122108459473\n",
      "Iter: 200, conv error: 0.3777916431427002, tau: 2.09938383102417\n",
      "Iter: 300, conv error: 0.25222060084342957, tau: 2.069633722305298\n",
      "Iter: 400, conv error: 0.19881075620651245, tau: 2.0033624172210693\n",
      "Iter: 500, conv error: 0.12813887000083923, tau: 1.987666368484497\n",
      "Iter: 600, conv error: 0.12699252367019653, tau: 2.0520002841949463\n",
      "Iter: 700, conv error: 0.060975395143032074, tau: 2.012223958969116\n",
      "Iter: 800, conv error: 0.03572376072406769, tau: 2.033173084259033\n",
      "Iter: 900, conv error: 0.01330870296806097, tau: 2.0283756256103516\n",
      "Iter: 1000, conv error: 0.005099424626678228, tau: 2.0306999683380127\n",
      "Iter: 1100, conv error: 0.0036216501612216234, tau: 2.026546001434326\n",
      "Iter: 1200, conv error: 0.002430881839245558, tau: 2.026700019836426\n",
      "Iter: 1300, conv error: 0.00145633181091398, tau: 2.0287442207336426\n",
      "Iter: 1400, conv error: 0.0012915219413116574, tau: 2.027782440185547\n",
      "Iter: 1500, conv error: 0.0009067701757885516, tau: 2.027855157852173\n",
      "converged to: 2.027855157852173                   after: 1501 iterations in: 83.7562                    seconds at a rate of 0.0558 s/iter\n",
      "Finished FCC with 201^3 voxels.\n"
     ]
    },
    {
     "data": {
      "application/vnd.jupyter.widget-view+json": {
       "model_id": "",
       "version_major": 2,
       "version_minor": 0
      },
      "text/plain": [
       "Computing region surface area                               :   0%|          | 0/1 [00:00<?, ?it/s]"
      ]
     },
     "metadata": {},
     "output_type": "display_data"
    },
    {
     "name": "stdout",
     "output_type": "stream",
     "text": [
      "Iter: 0, conv error: 0.17396298050880432, tau: 1.006185531616211\n",
      "Iter: 100, conv error: 0.3455127775669098, tau: 1.6008588075637817\n",
      "Iter: 200, conv error: 0.7142661809921265, tau: 2.036696434020996\n",
      "Iter: 300, conv error: 0.1022028923034668, tau: 1.8359485864639282\n",
      "Iter: 400, conv error: 0.10037369281053543, tau: 1.4795629978179932\n",
      "Iter: 500, conv error: 0.10433359444141388, tau: 1.6200110912322998\n",
      "Iter: 600, conv error: 0.11246368288993835, tau: 1.7332038879394531\n",
      "Iter: 700, conv error: 0.04029475152492523, tau: 1.7212684154510498\n",
      "Iter: 800, conv error: 0.01523469015955925, tau: 1.621842622756958\n",
      "Iter: 900, conv error: 0.03204059973359108, tau: 1.6453535556793213\n",
      "Iter: 1000, conv error: 0.026369960978627205, tau: 1.6771457195281982\n",
      "Iter: 1100, conv error: 0.009253098629415035, tau: 1.680376410484314\n",
      "Iter: 1200, conv error: 0.0025223437696695328, tau: 1.655632495880127\n",
      "Iter: 1300, conv error: 0.008078507147729397, tau: 1.6581274271011353\n",
      "Iter: 1400, conv error: 0.005764934234321117, tau: 1.6661372184753418\n",
      "Iter: 1500, conv error: 0.002383686136454344, tau: 1.6682835817337036\n",
      "Iter: 1600, conv error: 0.0010112161980941892, tau: 1.6631275415420532\n",
      "Iter: 1700, conv error: 0.0021064989268779755, tau: 1.6626381874084473\n",
      "Iter: 1800, conv error: 0.0013810909586027265, tau: 1.664647102355957\n",
      "Iter: 1900, conv error: 0.000707793515175581, tau: 1.6654423475265503\n",
      "converged to: 1.6654423475265503                   after: 1901 iterations in: 317.3226                    seconds at a rate of 0.1669 s/iter\n",
      "Iter: 0, conv error: 0.6242039203643799, tau: 1.0226460695266724\n",
      "Iter: 100, conv error: 1.2418558597564697, tau: 2.3086698055267334\n",
      "Iter: 200, conv error: 0.961049497127533, tau: 2.192875623703003\n",
      "Iter: 300, conv error: 0.36038777232170105, tau: 2.050985097885132\n",
      "Iter: 400, conv error: 0.2719973921775818, tau: 1.798696517944336\n",
      "Iter: 500, conv error: 0.3879696726799011, tau: 2.0982728004455566\n",
      "Iter: 600, conv error: 0.19619375467300415, tau: 1.9593688249588013\n",
      "Iter: 700, conv error: 0.17486166954040527, tau: 1.998888373374939\n",
      "Iter: 800, conv error: 0.069463811814785, tau: 1.9828468561172485\n",
      "Iter: 900, conv error: 0.11355000734329224, tau: 2.007434844970703\n",
      "Iter: 1000, conv error: 0.025249086320400238, tau: 1.955971121788025\n",
      "Iter: 1100, conv error: 0.03268975019454956, tau: 1.9940721988677979\n",
      "Iter: 1200, conv error: 0.034892529249191284, tau: 1.9894111156463623\n",
      "Iter: 1300, conv error: 0.011297551915049553, tau: 1.9878488779067993\n",
      "Iter: 1400, conv error: 0.011712009087204933, tau: 1.9776231050491333\n",
      "Iter: 1500, conv error: 0.0040236301720142365, tau: 1.9881211519241333\n",
      "Iter: 1600, conv error: 0.009471442550420761, tau: 1.9851012229919434\n",
      "Iter: 1700, conv error: 0.004244599491357803, tau: 1.9854997396469116\n",
      "Iter: 1800, conv error: 0.0021975883282721043, tau: 1.9836797714233398\n",
      "Iter: 1900, conv error: 0.0035340941976755857, tau: 1.985156536102295\n",
      "Iter: 2000, conv error: 0.0012017375556752086, tau: 1.9843096733093262\n",
      "Iter: 2100, conv error: 0.001723719877190888, tau: 1.98486328125\n",
      "Iter: 2200, conv error: 0.0013280014973133802, tau: 1.9846876859664917\n",
      "Iter: 2300, conv error: 0.0014262881595641375, tau: 1.9848815202713013\n",
      "Iter: 2400, conv error: 0.0007870628614909947, tau: 1.9843261241912842\n",
      "converged to: 1.9843261241912842                   after: 2401 iterations in: 400.0217                    seconds at a rate of 0.1666 s/iter\n",
      "Finished FCC with 300^3 voxels.\n"
     ]
    },
    {
     "data": {
      "application/vnd.jupyter.widget-view+json": {
       "model_id": "",
       "version_major": 2,
       "version_minor": 0
      },
      "text/plain": [
       "Computing region surface area                               :   0%|          | 0/1 [00:00<?, ?it/s]"
      ]
     },
     "metadata": {},
     "output_type": "display_data"
    },
    {
     "name": "stdout",
     "output_type": "stream",
     "text": [
      "Iter: 0, conv error: 0.17645184695720673, tau: 1.006105899810791\n",
      "Iter: 100, conv error: 0.3359318971633911, tau: 1.5837507247924805\n",
      "Iter: 200, conv error: 0.8768262267112732, tau: 1.9843244552612305\n",
      "Iter: 300, conv error: 0.10175765305757523, tau: 1.7915773391723633\n",
      "Iter: 400, conv error: 0.12301822006702423, tau: 1.458756923675537\n",
      "Iter: 500, conv error: 0.0981685221195221, tau: 1.5999364852905273\n",
      "Iter: 600, conv error: 0.1357228308916092, tau: 1.7036570310592651\n",
      "Iter: 700, conv error: 0.04225333034992218, tau: 1.6878801584243774\n",
      "Iter: 800, conv error: 0.01755189150571823, tau: 1.5947190523147583\n",
      "Iter: 900, conv error: 0.03350578248500824, tau: 1.6209325790405273\n",
      "Iter: 1000, conv error: 0.03132135421037674, tau: 1.6501941680908203\n",
      "Iter: 1100, conv error: 0.009942029602825642, tau: 1.6513478755950928\n",
      "Iter: 1200, conv error: 0.005237130913883448, tau: 1.627712607383728\n",
      "Iter: 1300, conv error: 0.008253663778305054, tau: 1.631548285484314\n",
      "Iter: 1400, conv error: 0.007358761504292488, tau: 1.6390769481658936\n",
      "Iter: 1500, conv error: 0.0028963973745703697, tau: 1.6406691074371338\n",
      "Iter: 1600, conv error: 0.0010635695653036237, tau: 1.6353751420974731\n",
      "Iter: 1700, conv error: 0.0021394065115600824, tau: 1.6354533433914185\n",
      "Iter: 1800, conv error: 0.0015442129224538803, tau: 1.637355923652649\n",
      "Iter: 1900, conv error: 0.0008230142993852496, tau: 1.637966275215149\n",
      "converged to: 1.637966275215149                   after: 1901 iterations in: 328.8955                    seconds at a rate of 0.173 s/iter\n",
      "Iter: 0, conv error: 0.6297497749328613, tau: 1.0223816633224487\n",
      "Iter: 100, conv error: 1.8385342359542847, tau: 2.3176488876342773\n",
      "Iter: 200, conv error: 0.9815093874931335, tau: 2.197605848312378\n",
      "Iter: 300, conv error: 0.3746720254421234, tau: 2.0509002208709717\n",
      "Iter: 400, conv error: 0.28465238213539124, tau: 1.7989968061447144\n",
      "Iter: 500, conv error: 0.3905395567417145, tau: 2.098273515701294\n",
      "Iter: 600, conv error: 0.21581630408763885, tau: 1.9642760753631592\n",
      "Iter: 700, conv error: 0.18830165266990662, tau: 2.0010483264923096\n",
      "Iter: 800, conv error: 0.07062148302793503, tau: 1.9824453592300415\n",
      "Iter: 900, conv error: 0.12837935984134674, tau: 2.008059024810791\n",
      "Iter: 1000, conv error: 0.03061491623520851, tau: 1.957854151725769\n",
      "Iter: 1100, conv error: 0.03514958918094635, tau: 1.9951276779174805\n",
      "Iter: 1200, conv error: 0.03442947566509247, tau: 1.9894551038742065\n",
      "Iter: 1300, conv error: 0.01282127108424902, tau: 1.988373041152954\n",
      "Iter: 1400, conv error: 0.013237731531262398, tau: 1.9784899950027466\n",
      "Iter: 1500, conv error: 0.0034037919249385595, tau: 1.9884852170944214\n",
      "Iter: 1600, conv error: 0.009783240966498852, tau: 1.9859317541122437\n",
      "Iter: 1700, conv error: 0.004625036381185055, tau: 1.985985517501831\n",
      "Iter: 1800, conv error: 0.0023795482702553272, tau: 1.9841622114181519\n",
      "Iter: 1900, conv error: 0.003900253912433982, tau: 1.9857618808746338\n",
      "Iter: 2000, conv error: 0.0013947393745183945, tau: 1.9851247072219849\n",
      "Iter: 2100, conv error: 0.0017559819389134645, tau: 1.9854627847671509\n",
      "Iter: 2200, conv error: 0.0014352528378367424, tau: 1.985271692276001\n",
      "Iter: 2300, conv error: 0.0016515979077666998, tau: 1.9855310916900635\n",
      "Iter: 2400, conv error: 0.0009241463849321008, tau: 1.9849945306777954\n",
      "converged to: 1.9849945306777954                   after: 2401 iterations in: 405.2683                    seconds at a rate of 0.1688 s/iter\n",
      "Finished FCC with 301^3 voxels.\n"
     ]
    }
   ],
   "source": [
    "fcc_results = {}\n",
    "overlaps = [0.0,0.05] #[0.01,0.05,0.1,0.2]\n",
    "\n",
    "for overlap in overlaps:\n",
    "    resolution = [6,7,8,9,10,11,12,13,14,15,16,17,18,19,20,21,22,23,24,25,50,51,100,101,200,201,300,301]\n",
    "    \n",
    "    # Initialize fields\n",
    "    fcc_vol_fraction = {'theo':np.zeros(len(resolution)),\n",
    "                        'num':np.zeros(len(resolution))}\n",
    "\n",
    "    methods = ['theo', 'faces', 'marching', 'conv_marching', 'porespy', 'gradient', 'conv_gradient']\n",
    "    area = {method: np.zeros(len(resolution)) for method in methods}\n",
    "    times = {method: np.zeros(len(resolution)) for method in methods[1:]}\n",
    "    \n",
    "    connectivity_type = ['s_side', 's_edge', 's_corner', 'p_side', 'p_edge', 'p_corner']\n",
    "    connectivity = {conn: np.zeros(len(resolution)) for conn in connectivity_type}\n",
    "    tortuosity   = {'solid': np.zeros(len(resolution)),\n",
    "                    'pore': np.zeros(len(resolution))}\n",
    "    \n",
    "    for i, pixels in enumerate(resolution):\n",
    "        sharp_field = data.create_fcc_cube(pixels, overlap=overlap)\n",
    "        vol, surf = data.theoretical_fcc_metrics(pixels, overlap)\n",
    "        fcc_vol_fraction['theo'][i] = vol\n",
    "        fcc_vol_fraction['num'][i] = metrics.volume_fraction(sharp_field, 1)\n",
    "        \n",
    "        timer=[]\n",
    "        area['theo'][i] = surf\n",
    "        timer.append(time.time())\n",
    "        area['faces'][i] = 3*tau.surface_area(sharp_field, phases=[1]).item()\n",
    "        timer.append(time.time())\n",
    "        area['marching'][i] = metrics.specific_surface_area_marching(sharp_field)\n",
    "        timer.append(time.time())\n",
    "        phase_field = metrics.smooth_with_convolution(sharp_field)\n",
    "        area['conv_marching'][i] = metrics.specific_surface_area_marching(phase_field)\n",
    "        timer.append(time.time())\n",
    "        area['porespy'][i]  = metrics.specific_surface_area_porespy(sharp_field)\n",
    "        timer.append(time.time())\n",
    "        area['gradient'][i] = metrics.specific_surface_area(sharp_field)\n",
    "        timer.append(time.time())\n",
    "        area['conv_gradient'][i] = metrics.specific_surface_area(sharp_field, smooth=1)\n",
    "        timer.append(time.time())\n",
    "        \n",
    "        for k, method in enumerate(methods[1:]):\n",
    "            times[method][i] = np.array(timer)[k+1]-np.array(timer)[k]\n",
    "        \n",
    "        # Compute through feature and tortuosity\n",
    "        through_feature, through_fraction = metrics.extract_through_feature(sharp_field, 1, 'x')\n",
    "        connectivity['s_side'][i] = through_fraction[0]\n",
    "        connectivity['s_edge'][i] = through_fraction[1]\n",
    "        connectivity['s_corner'][i] = through_fraction[2]\n",
    "        \n",
    "        if through_fraction[0]>0.0:\n",
    "            res = metrics.tortuosity(through_feature[0])\n",
    "            if res<1000: tortuosity['solid'][i] = res\n",
    "            \n",
    "        through_feature, through_fraction = metrics.extract_through_feature(sharp_field, 0, 'x')\n",
    "        connectivity['p_side'][i] = through_fraction[0]\n",
    "        connectivity['p_edge'][i] = through_fraction[1]\n",
    "        connectivity['p_corner'][i] = through_fraction[2]\n",
    "        \n",
    "        if through_fraction[0]>0.0:\n",
    "            res = metrics.tortuosity(through_feature[0])\n",
    "            if res<1000: tortuosity['pore'][i] = res\n",
    "        print(f\"Finished FCC with {pixels}^3 voxels.\")\n",
    "        \n",
    "    fcc_results[f'overlap{int(100*overlap)}'] = {'vol':fcc_vol_fraction,\n",
    "                                                 'area':area,\n",
    "                                                 'time':times,\n",
    "                                                 'connected':connectivity,\n",
    "                                                 'taufactor':tortuosity}"
   ]
  },
  {
   "cell_type": "markdown",
   "id": "5e06d071",
   "metadata": {},
   "source": [
    "### Plotting\n",
    "Plot the results based on following color and line style"
   ]
  },
  {
   "cell_type": "code",
   "execution_count": 4,
   "id": "92f802c5",
   "metadata": {},
   "outputs": [],
   "source": [
    "colors = ['black', 'red', 'blue', 'purple', 'orange', 'lime', 'green', 'red', 'orange']\n",
    "line_styles = ['-', '-.', ':', ':', '--', '-', '-.','-']"
   ]
  },
  {
   "cell_type": "markdown",
   "id": "a43d868d",
   "metadata": {},
   "source": [
    "Plot relative volume error"
   ]
  },
  {
   "cell_type": "code",
   "execution_count": 5,
   "id": "1e602f40",
   "metadata": {},
   "outputs": [
    {
     "data": {
      "image/png": "[encoded data removed]",
      "text/plain": [
       "<Figure size 1000x400 with 1 Axes>"
      ]
     },
     "metadata": {},
     "output_type": "display_data"
    }
   ],
   "source": [
    "fig, ax = plt.subplots(figsize=(10, 4))\n",
    "for i, o in enumerate(overlaps):\n",
    "    ax.semilogx(resolution, (fcc_results[f'overlap{int(100*o)}']['vol']['num']-fcc_results[f'overlap{int(100*o)}']['vol']['theo'])/fcc_results[f'overlap{int(100*o)}']['vol']['theo']*100, label=f'sharp_o{int(100*o)}', color=colors[i], linestyle=line_styles[i])\n",
    "\n",
    "ax.set_xlabel('voxels per cube length')\n",
    "ax.set_ylabel('%')\n",
    "ax.set_title('Relative error of volume fraction in %')\n",
    "ax.legend()\n",
    "ax.grid()\n",
    "plt.show()"
   ]
  },
  {
   "cell_type": "markdown",
   "id": "d95a4121",
   "metadata": {},
   "source": [
    "Relative error of surface area computation"
   ]
  },
  {
   "cell_type": "code",
   "execution_count": 6,
   "id": "baa85dfa",
   "metadata": {},
   "outputs": [
    {
     "data": {
      "image/png": "[encoded data removed]",
      "text/plain": [
       "<Figure size 1000x400 with 1 Axes>"
      ]
     },
     "metadata": {},
     "output_type": "display_data"
    }
   ],
   "source": [
    "fig, ax = plt.subplots(figsize=(10, 4))\n",
    "for i, o in enumerate(overlaps):\n",
    "    for j, method in enumerate(methods):\n",
    "        rel_error = (fcc_results[f'overlap{int(100*o)}']['area'][method]-fcc_results[f'overlap{int(100*o)}']['area']['theo'])/fcc_results[f'overlap{int(100*o)}']['area']['theo']*100\n",
    "        ax.semilogx(resolution, rel_error, label=method+f'_o{int(100*o)}', color=colors[j], linestyle=line_styles[i])\n",
    "\n",
    "ax.set_xlabel('voxels per cube length')\n",
    "ax.set_ylabel('%')\n",
    "ax.set_title('Relative error of specific surface area in %')\n",
    "ax.legend()\n",
    "ax.grid()\n",
    "\n",
    "plt.show()"
   ]
  },
  {
   "cell_type": "markdown",
   "id": "117b8e14",
   "metadata": {},
   "source": [
    "And, last but not least, the computation times"
   ]
  },
  {
   "cell_type": "code",
   "execution_count": 7,
   "id": "4aa7042b",
   "metadata": {},
   "outputs": [
    {
     "data": {
      "image/png": "[encoded data removed]",
      "text/plain": [
       "<Figure size 1000x400 with 1 Axes>"
      ]
     },
     "metadata": {},
     "output_type": "display_data"
    }
   ],
   "source": [
    "fig, ax = plt.subplots(figsize=(10, 4))\n",
    "for i, o in enumerate(overlaps):\n",
    "    for j, method in enumerate(methods[1:]):\n",
    "        ax.loglog(resolution, fcc_results[f'overlap{int(100*o)}']['time'][method], label=method+f'_o{int(100*o)}', color=colors[j+1], linestyle=line_styles[i])\n",
    "\n",
    "ax.set_xlabel('voxels per cube length')\n",
    "ax.set_ylabel('Computation time [s]')\n",
    "ax.set_title('Computation time in s')\n",
    "ax.legend()\n",
    "ax.grid()\n",
    "\n",
    "plt.show()"
   ]
  },
  {
   "cell_type": "markdown",
   "id": "5183507a",
   "metadata": {},
   "source": [
    "### Save results to text file\n",
    "Define a file name and write results dictionary as text table"
   ]
  },
  {
   "cell_type": "code",
   "execution_count": 8,
   "id": "482cdcba",
   "metadata": {},
   "outputs": [
    {
     "name": "stdout",
     "output_type": "stream",
     "text": [
      "Data written to fcc_overlap0.txt.\n"
     ]
    }
   ],
   "source": [
    "file_name = \"fcc_overlap0.txt\"\n",
    "output = {'pixels':resolution}\n",
    "buffer = fcc_results['overlap0']\n",
    "for key,s in buffer['vol'].items():\n",
    "    header = 'vol_'+key\n",
    "    output[header] = s\n",
    "for key,s in buffer['area'].items():\n",
    "    header = 'a_'+key\n",
    "    output[header] = s\n",
    "for key,s in buffer['time'].items():\n",
    "    header = 't_'+key\n",
    "    output[header] = s\n",
    "for key,s in buffer['connected'].items():\n",
    "    header = 'con_'+key\n",
    "    output[header] = s\n",
    "for key,s in buffer['taufactor'].items():\n",
    "    header = 'tau_'+key\n",
    "    output[header] = s\n",
    "\n",
    "data.write_dict_to_txt(output, file_name)\n",
    "print(f\"Data written to {file_name}.\")"
   ]
  }
 ],
 "metadata": {
  "kernelspec": {
   "display_name": "Python 3 (ipykernel)",
   "language": "python",
   "name": "python3"
  },
  "language_info": {
   "codemirror_mode": {
    "name": "ipython",
    "version": 3
   },
   "file_extension": ".py",
   "mimetype": "text/x-python",
   "name": "python",
   "nbconvert_exporter": "python",
   "pygments_lexer": "ipython3",
   "version": "3.11.3"
  }
 },
 "nbformat": 4,
 "nbformat_minor": 5
}
